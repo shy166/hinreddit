{
 "cells": [
  {
   "cell_type": "code",
   "execution_count": 2,
   "metadata": {},
   "outputs": [],
   "source": [
    "import pandas as pd\n",
    "from glob import glob\n",
    "import os.path as osp\n",
    "import os\n",
    "import numpy as np\n",
    "from sklearn.preprocessing import OrdinalEncoder\n",
    "from sklearn.preprocessing import OneHotEncoder\n",
    "import json\n",
    "from scipy import sparse\n",
    "import shutil\n",
    "import scipy.io as io"
   ]
  },
  {
   "cell_type": "code",
   "execution_count": 4,
   "metadata": {},
   "outputs": [],
   "source": [
    "fp = '/datasets/dsc180a-wi20-public/Malware/group_data/group_02/sensitive_data'\n",
    "COMM_DIR = osp.join('raw', 'comments', '*.csv')\n",
    "LABL_DIR = osp.join('interim', 'label', '*.csv')\n",
    "POST_DIR = osp.join('raw', 'posts', '*.csv')\n",
    "OUT_DIR = osp.join('interim', 'graph')"
   ]
  },
  {
   "cell_type": "code",
   "execution_count": 6,
   "metadata": {},
   "outputs": [],
   "source": [
    "comm = osp.join(fp, COMM_DIR)\n",
    "post = osp.join(fp, POST_DIR)\n",
    "labl = osp.join(fp, LABL_DIR)\n",
    "comm = pd.concat([pd.read_csv(i, usecols = ['id', 'author', 'parent_id', 'link_id']\n",
    "                    ) for i in glob(comm)])\n",
    "post = pd.concat([pd.read_csv(i, usecols = ['id', 'author', 'subreddit']\n",
    "                    ) for i in glob(post)])\n",
    "labl = pd.concat([pd.read_csv(i) for i in glob(labl)])\n",
    "labl = labl[labl.label != -1]\n",
    "post.author = post.author.str.lower()\n",
    "post.subreddit = post.subreddit.str.lower()\n",
    "post = post[(post.author != '[deleted]')&(post.author != 'automoderator')& (post.author != 'snapshillbot')]\n",
    "comm['parent_id'] = comm.parent_id.str[3:]\n",
    "comm['link_id'] = comm.link_id.str[3:]\n",
    "comm = comm[['id','author', 'parent_id', 'link_id']]\n",
    "comm.author = comm.author.str.lower()\n",
    "comm = comm[(comm.author != '[deleted]')&(comm.author != 'automoderator') & (comm.author != 'snapshillbot')]\n",
    "comm = comm.dropna()\n",
    "post = post[(post.id.isin(labl.post_id)) & (post.id.isin(comm.link_id))]\n",
    "comm = comm[comm.link_id.isin(post.id)]\n",
    "comm = comm[(comm.parent_id.isin(post.id)) | (comm.parent_id.isin(comm.id)) | (comm.link_id.isin(post.id))]\n",
    "comm_root = comm[comm.parent_id.str.len() == 6]\n",
    "comm_nest = comm[comm.parent_id.str.len() == 7]"
   ]
  },
  {
   "cell_type": "code",
   "execution_count": 7,
   "metadata": {},
   "outputs": [],
   "source": [
    "post_pauthor = post[['id', 'author']]\n",
    "post_pauthor.columns = ['who', 'whom']\n",
    "pauthor_post = post[['id', 'author']]\n",
    "pauthor_post.columns = ['whom', 'who']\n",
    "pauthor_post_edges = pd.concat([post_pauthor, pauthor_post], ignore_index = True)\n",
    "cauthor_pauthor_edges = pd.merge(comm_root[['author', 'parent_id']], post[['id', 'author']], \\\n",
    "        left_on = 'parent_id', right_on = 'id', how = 'left')[['author_x', 'author_y']]\n",
    "cauthor_pauthor_edges.columns = ['who', 'whom']\n",
    "cauthor_cauthor = pd.merge(comm_nest[['parent_id', 'author']], comm_nest[['id', 'author']], \\\n",
    "        left_on = 'parent_id', right_on = 'id', how = 'left')[['author_x', 'author_y']]\n",
    "cauthor_cauthor.columns = ['whom', 'who']\n",
    "edges = pd.concat([pauthor_post_edges, cauthor_pauthor_edges, cauthor_cauthor], ignore_index = True)"
   ]
  },
  {
   "cell_type": "code",
   "execution_count": 9,
   "metadata": {},
   "outputs": [],
   "source": [
    "post_names = post.id.unique()\n",
    "node_names = np.unique(np.append(edges.who.dropna().values, edges.whom.dropna().values))\n",
    "node_maps = pd.DataFrame(\n",
    "            {\n",
    "                'id': np.arange(len(node_names)),\n",
    "                'name': node_names\n",
    "            }\n",
    ")"
   ]
  },
  {
   "cell_type": "code",
   "execution_count": 11,
   "metadata": {},
   "outputs": [],
   "source": [
    "edge_pairs = edges.dropna().who + edges.dropna().whom\n",
    "edge_pair = edges.copy()\n",
    "pair_counts = edge_pairs.value_counts()\n",
    "edge_pair['pairs'] = edge_pairs\n",
    "pair_counts = pair_counts.astype(int).to_frame()"
   ]
  },
  {
   "cell_type": "code",
   "execution_count": 12,
   "metadata": {},
   "outputs": [],
   "source": [
    "edges = pd.merge(edge_pair, pair_counts, left_on = 'pairs', right_index = True)[['who', 'whom', 0]]\n",
    "edge_idx = edges.drop_duplicates()\n",
    "edge_idx = pd.merge(edge_idx, node_maps, left_on='who', right_on='name', how='left')[['id', 'whom', 0]]\n",
    "edge_idx.columns = ['who_id', 'whom', 'weight']\n",
    "edge_idx = pd.merge(edge_idx, node_maps, left_on='whom', right_on='name', how='left')[['who_id', 'id', 'weight']]\n",
    "edge_idx.columns = ['who_id', 'whom_id', 'weight']\n",
    "edge_weight = edge_idx[['weight']].values\n",
    "edge_idx = edge_idx.sort_values(['who_id', 'whom_id'])\n",
    "edge_idx_ = edge_idx[['who_id', 'whom_id']].values"
   ]
  },
  {
   "cell_type": "code",
   "execution_count": 16,
   "metadata": {},
   "outputs": [],
   "source": [
    "N = sparse.csr_matrix((edge_weight.reshape(-1,), (edge_idx_[:, 0], edge_idx_[:, 1])), \\\n",
    "                                shape = (node_maps.shape[0], node_maps.shape[0]))"
   ]
  },
  {
   "cell_type": "code",
   "execution_count": 33,
   "metadata": {},
   "outputs": [],
   "source": [
    "post_mask = node_maps.name.isin(post_names)\n",
    "post_indx = node_maps[post_mask].id.values"
   ]
  },
  {
   "cell_type": "code",
   "execution_count": 35,
   "metadata": {},
   "outputs": [
    {
     "data": {
      "text/plain": [
       "(103413,)"
      ]
     },
     "execution_count": 35,
     "metadata": {},
     "output_type": "execute_result"
    }
   ],
   "source": [
    "post_indx.shape"
   ]
  },
  {
   "cell_type": "code",
   "execution_count": 34,
   "metadata": {},
   "outputs": [],
   "source": [
    "from scipy import io\n",
    "import torch\n",
    "from torch_geometric.utils import from_scipy_sparse_matrix\n"
   ]
  },
  {
   "cell_type": "code",
   "execution_count": 28,
   "metadata": {},
   "outputs": [],
   "source": [
    "g = io.loadmat('/datasets/dsc180a-wi20-public/Malware/group_data/group_02/sensitive_data/interim/graph/graph_2.mat')"
   ]
  },
  {
   "cell_type": "code",
   "execution_count": 29,
   "metadata": {},
   "outputs": [],
   "source": [
    "N = t['N']"
   ]
  },
  {
   "cell_type": "code",
   "execution_count": 30,
   "metadata": {},
   "outputs": [],
   "source": [
    "p_cate = g['post_cate'].toarray()"
   ]
  },
  {
   "cell_type": "code",
   "execution_count": 33,
   "metadata": {},
   "outputs": [
    {
     "data": {
      "text/plain": [
       "array([[0., 0., 0., ..., 0., 0., 0.],\n",
       "       [0., 0., 0., ..., 0., 0., 0.],\n",
       "       [0., 0., 0., ..., 0., 0., 0.],\n",
       "       ...,\n",
       "       [0., 0., 0., ..., 0., 0., 0.],\n",
       "       [0., 0., 1., ..., 0., 0., 0.],\n",
       "       [0., 0., 0., ..., 0., 0., 0.]])"
      ]
     },
     "execution_count": 33,
     "metadata": {},
     "output_type": "execute_result"
    }
   ],
   "source": [
    "p_cate"
   ]
  },
  {
   "cell_type": "code",
   "execution_count": 35,
   "metadata": {},
   "outputs": [],
   "source": [
    "edge_idx, x =from_scipy_sparse_matrix(N)"
   ]
  },
  {
   "cell_type": "code",
   "execution_count": 43,
   "metadata": {},
   "outputs": [
    {
     "data": {
      "text/plain": [
       "tensor([[577328,  45380,  82809,  ..., 263087, 298545, 421156],\n",
       "        [     0,      1,      1,  ..., 585317, 585317, 585319]])"
      ]
     },
     "execution_count": 43,
     "metadata": {},
     "output_type": "execute_result"
    }
   ],
   "source": [
    "edge_idx"
   ]
  },
  {
   "cell_type": "code",
   "execution_count": null,
   "metadata": {},
   "outputs": [],
   "source": []
  },
  {
   "cell_type": "code",
   "execution_count": null,
   "metadata": {},
   "outputs": [],
   "source": []
  },
  {
   "cell_type": "code",
   "execution_count": null,
   "metadata": {},
   "outputs": [],
   "source": []
  }
 ],
 "metadata": {
  "kernelspec": {
   "display_name": "Python 3",
   "language": "python",
   "name": "python3"
  },
  "language_info": {
   "codemirror_mode": {
    "name": "ipython",
    "version": 3
   },
   "file_extension": ".py",
   "mimetype": "text/x-python",
   "name": "python",
   "nbconvert_exporter": "python",
   "pygments_lexer": "ipython3",
   "version": "3.7.6"
  }
 },
 "nbformat": 4,
 "nbformat_minor": 4
}
