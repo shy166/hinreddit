{
 "cells": [
  {
   "cell_type": "code",
   "execution_count": 1,
   "metadata": {},
   "outputs": [],
   "source": [
    "import torch\n",
    "from scipy import io\n",
    "from tensorflow import keras\n",
    "# from tsnecuda import TSNE\n",
    "from sklearn.model_selection import train_test_split\n",
    "from sklearn.linear_model import LogisticRegression\n",
    "from sklearn.ensemble import RandomForestClassifier\n",
    "from sklearn.svm import LinearSVC\n",
    "\n",
    "import matplotlib.pyplot as plt\n",
    "import numpy as np\n",
    "import pandas as pd"
   ]
  },
  {
   "cell_type": "code",
   "execution_count": 2,
   "metadata": {},
   "outputs": [],
   "source": [
    "embedding = np.load('/datasets/dsc180a-wi20-public/Malware/group_data/group_02/sensitive_data/processed/node2vec/graph_2.npy')"
   ]
  },
  {
   "cell_type": "code",
   "execution_count": 3,
   "metadata": {},
   "outputs": [],
   "source": [
    "g = io.loadmat('/datasets/dsc180a-wi20-public/Malware/group_data/group_02/sensitive_data/interim/graph/graph_2.mat')"
   ]
  },
  {
   "cell_type": "code",
   "execution_count": 4,
   "metadata": {},
   "outputs": [],
   "source": [
    "y = g['post_label'].reshape(-1,)"
   ]
  },
  {
   "cell_type": "code",
   "execution_count": 5,
   "metadata": {},
   "outputs": [],
   "source": [
    "post_cate = g['post_cate']\n",
    "subreddit_cate = post_cate[:, :-1]\n",
    "community_cate = post_cate[:, -1].astype(int)"
   ]
  },
  {
   "cell_type": "code",
   "execution_count": 6,
   "metadata": {},
   "outputs": [],
   "source": [
    "def evaluate(clf, X_train, y_train, X_test, y_test):\n",
    "    METRICS = [\n",
    "        keras.metrics.TruePositives(name='tp'),\n",
    "        keras.metrics.FalsePositives(name='fp'),\n",
    "        keras.metrics.TrueNegatives(name='tn'),\n",
    "        keras.metrics.FalseNegatives(name='fn'), \n",
    "        keras.metrics.BinaryAccuracy(name='accuracy'),\n",
    "        keras.metrics.Precision(name='precision'),\n",
    "        keras.metrics.Recall(name='recall'),\n",
    "        keras.metrics.AUC(name='auc'),\n",
    "    ]   \n",
    "    clf.fit(X_train, y_train)\n",
    "    y_pred = clf.predict(X_test)\n",
    "    res = {}\n",
    "    for i in METRICS:\n",
    "        res[i.name] = i(y_test, y_pred).numpy()\n",
    "    return res"
   ]
  },
  {
   "cell_type": "code",
   "execution_count": 7,
   "metadata": {},
   "outputs": [],
   "source": [
    "cate = np.array(subreddit_cate.argmax(1)).reshape(-1,)"
   ]
  },
  {
   "cell_type": "code",
   "execution_count": 8,
   "metadata": {},
   "outputs": [
    {
     "name": "stdout",
     "output_type": "stream",
     "text": [
      "Examples:\n",
      "    Total: 103413\n",
      "    Positive: 4409 (4.26% of total)\n",
      "\n",
      "{0: 0.5222667770999152, 1: 11.72748922658199}\n"
     ]
    },
    {
     "data": {
      "text/html": [
       "<div>\n",
       "<style scoped>\n",
       "    .dataframe tbody tr th:only-of-type {\n",
       "        vertical-align: middle;\n",
       "    }\n",
       "\n",
       "    .dataframe tbody tr th {\n",
       "        vertical-align: top;\n",
       "    }\n",
       "\n",
       "    .dataframe thead th {\n",
       "        text-align: right;\n",
       "    }\n",
       "</style>\n",
       "<table border=\"1\" class=\"dataframe\">\n",
       "  <thead>\n",
       "    <tr style=\"text-align: right;\">\n",
       "      <th></th>\n",
       "      <th>tp</th>\n",
       "      <th>fp</th>\n",
       "      <th>tn</th>\n",
       "      <th>fn</th>\n",
       "      <th>accuracy</th>\n",
       "      <th>precision</th>\n",
       "      <th>recall</th>\n",
       "      <th>auc</th>\n",
       "    </tr>\n",
       "  </thead>\n",
       "  <tbody>\n",
       "    <tr>\n",
       "      <th>LogisticRegression</th>\n",
       "      <td>551.0</td>\n",
       "      <td>8045.0</td>\n",
       "      <td>11777.0</td>\n",
       "      <td>310.0</td>\n",
       "      <td>0.596045</td>\n",
       "      <td>0.0641</td>\n",
       "      <td>0.639954</td>\n",
       "      <td>0.617046</td>\n",
       "    </tr>\n",
       "    <tr>\n",
       "      <th>RandomForestClassifier</th>\n",
       "      <td>0.0</td>\n",
       "      <td>0.0</td>\n",
       "      <td>19822.0</td>\n",
       "      <td>861.0</td>\n",
       "      <td>0.958372</td>\n",
       "      <td>0.0000</td>\n",
       "      <td>0.000000</td>\n",
       "      <td>0.500000</td>\n",
       "    </tr>\n",
       "  </tbody>\n",
       "</table>\n",
       "</div>"
      ],
      "text/plain": [
       "                           tp      fp       tn     fn  accuracy  precision  \\\n",
       "LogisticRegression      551.0  8045.0  11777.0  310.0  0.596045     0.0641   \n",
       "RandomForestClassifier    0.0     0.0  19822.0  861.0  0.958372     0.0000   \n",
       "\n",
       "                          recall       auc  \n",
       "LogisticRegression      0.639954  0.617046  \n",
       "RandomForestClassifier  0.000000  0.500000  "
      ]
     },
     "metadata": {},
     "output_type": "display_data"
    }
   ],
   "source": [
    "\n",
    "neg, pos = np.bincount(y)\n",
    "total = neg + pos\n",
    "print('Examples:\\n    Total: {}\\n    Positive: {} ({:.2f}% of total)\\n'.format(\n",
    "    total, pos, 100 * pos / total))\n",
    "weight_for_0 = (1 / neg)*(total)/2.0 \n",
    "weight_for_1 = (1 / pos)*(total)/2.0\n",
    "class_weight = {0: weight_for_0, 1: weight_for_1}\n",
    "print(class_weight)\n",
    "X_train, X_test, y_train, y_test = train_test_split(embedding, y, test_size=0.2)\n",
    "clfs = [\n",
    "        LogisticRegression(\n",
    "        solver='lbfgs',verbose=False, max_iter=2000, class_weight = class_weight, n_jobs=8\n",
    "        ),\n",
    "        RandomForestClassifier(class_weight=class_weight, n_jobs=8)\n",
    "    ]\n",
    "res = {}\n",
    "for clf in clfs:\n",
    "    res[clf.__class__.__name__] = evaluate(clf, X_train, y_train, X_test, y_test)\n",
    "res = pd.DataFrame(res).T\n",
    "display(res)"
   ]
  },
  {
   "cell_type": "code",
   "execution_count": 9,
   "metadata": {},
   "outputs": [
    {
     "name": "stdout",
     "output_type": "stream",
     "text": [
      "Examples:\n",
      "    Total: 103413\n",
      "    Positive: 23188 (22.42% of total)\n",
      "\n",
      "{0: 0.644518541601745, 1: 2.22988183543212}\n"
     ]
    },
    {
     "data": {
      "text/html": [
       "<div>\n",
       "<style scoped>\n",
       "    .dataframe tbody tr th:only-of-type {\n",
       "        vertical-align: middle;\n",
       "    }\n",
       "\n",
       "    .dataframe tbody tr th {\n",
       "        vertical-align: top;\n",
       "    }\n",
       "\n",
       "    .dataframe thead th {\n",
       "        text-align: right;\n",
       "    }\n",
       "</style>\n",
       "<table border=\"1\" class=\"dataframe\">\n",
       "  <thead>\n",
       "    <tr style=\"text-align: right;\">\n",
       "      <th></th>\n",
       "      <th>tp</th>\n",
       "      <th>fp</th>\n",
       "      <th>tn</th>\n",
       "      <th>fn</th>\n",
       "      <th>accuracy</th>\n",
       "      <th>precision</th>\n",
       "      <th>recall</th>\n",
       "      <th>auc</th>\n",
       "    </tr>\n",
       "  </thead>\n",
       "  <tbody>\n",
       "    <tr>\n",
       "      <th>LogisticRegression</th>\n",
       "      <td>3995.0</td>\n",
       "      <td>1976.0</td>\n",
       "      <td>14026.0</td>\n",
       "      <td>686.0</td>\n",
       "      <td>0.871295</td>\n",
       "      <td>0.669067</td>\n",
       "      <td>0.853450</td>\n",
       "      <td>0.864983</td>\n",
       "    </tr>\n",
       "    <tr>\n",
       "      <th>RandomForestClassifier</th>\n",
       "      <td>2378.0</td>\n",
       "      <td>55.0</td>\n",
       "      <td>15947.0</td>\n",
       "      <td>2303.0</td>\n",
       "      <td>0.885993</td>\n",
       "      <td>0.977394</td>\n",
       "      <td>0.508011</td>\n",
       "      <td>0.752287</td>\n",
       "    </tr>\n",
       "  </tbody>\n",
       "</table>\n",
       "</div>"
      ],
      "text/plain": [
       "                            tp      fp       tn      fn  accuracy  precision  \\\n",
       "LogisticRegression      3995.0  1976.0  14026.0   686.0  0.871295   0.669067   \n",
       "RandomForestClassifier  2378.0    55.0  15947.0  2303.0  0.885993   0.977394   \n",
       "\n",
       "                          recall       auc  \n",
       "LogisticRegression      0.853450  0.864983  \n",
       "RandomForestClassifier  0.508011  0.752287  "
      ]
     },
     "metadata": {},
     "output_type": "display_data"
    }
   ],
   "source": [
    "neg, pos = np.bincount(community_cate)\n",
    "total = neg + pos\n",
    "print('Examples:\\n    Total: {}\\n    Positive: {} ({:.2f}% of total)\\n'.format(\n",
    "    total, pos, 100 * pos / total))\n",
    "weight_for_0 = (1 / neg)*(total)/2.0 \n",
    "weight_for_1 = (1 / pos)*(total)/2.0\n",
    "class_weight = {0: weight_for_0, 1: weight_for_1}\n",
    "print(class_weight)\n",
    "X_train, X_test, y_train, y_test = train_test_split(embedding, community_cate, test_size=0.2)\n",
    "clfs = [\n",
    "        LogisticRegression(\n",
    "        solver='lbfgs',verbose=False, max_iter=2000, class_weight = class_weight, n_jobs=8\n",
    "        ),\n",
    "        RandomForestClassifier(class_weight=class_weight, n_jobs=8)\n",
    "    ]\n",
    "res = {}\n",
    "for clf in clfs:\n",
    "    res[clf.__class__.__name__] = evaluate(clf, X_train, y_train, X_test, y_test)\n",
    "res = pd.DataFrame(res).T\n",
    "display(res)"
   ]
  },
  {
   "cell_type": "code",
   "execution_count": 10,
   "metadata": {},
   "outputs": [
    {
     "data": {
      "text/plain": [
       "{'LogisticRegression': 0.8371609534400232,\n",
       " 'RandomForestClassifier': 0.8076681332495286}"
      ]
     },
     "execution_count": 10,
     "metadata": {},
     "output_type": "execute_result"
    }
   ],
   "source": [
    "X_train, X_test, y_train, y_test = train_test_split(embedding, cate, test_size=0.2)\n",
    "clfs = [\n",
    "        LogisticRegression(\n",
    "        verbose=False, max_iter=2000, class_weight = 'balanced', n_jobs=8\n",
    "        ),\n",
    "#         LinearSVC(class_weight=class_weight),\n",
    "        RandomForestClassifier(class_weight='balanced', n_jobs=8)\n",
    "    ]\n",
    "res = {}\n",
    "for clf in clfs:\n",
    "    clf.fit(X_train, y_train)\n",
    "    res[clf.__class__.__name__] = clf.score(X_test, y_test)\n",
    "res"
   ]
  },
  {
   "cell_type": "code",
   "execution_count": null,
   "metadata": {},
   "outputs": [],
   "source": []
  },
  {
   "cell_type": "code",
   "execution_count": null,
   "metadata": {},
   "outputs": [],
   "source": []
  },
  {
   "cell_type": "code",
   "execution_count": null,
   "metadata": {},
   "outputs": [],
   "source": []
  }
 ],
 "metadata": {
  "kernelspec": {
   "display_name": "Python 3",
   "language": "python",
   "name": "python3"
  },
  "language_info": {
   "codemirror_mode": {
    "name": "ipython",
    "version": 3
   },
   "file_extension": ".py",
   "mimetype": "text/x-python",
   "name": "python",
   "nbconvert_exporter": "python",
   "pygments_lexer": "ipython3",
   "version": "3.7.6"
  }
 },
 "nbformat": 4,
 "nbformat_minor": 4
}
