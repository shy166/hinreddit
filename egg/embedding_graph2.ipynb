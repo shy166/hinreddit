{
 "cells": [
  {
   "cell_type": "code",
   "execution_count": 1,
   "metadata": {},
   "outputs": [],
   "source": [
    "import torch\n",
    "from scipy import io\n",
    "from tensorflow import keras\n",
    "# from tsnecuda import TSNE\n",
    "from sklearn.model_selection import train_test_split\n",
    "from sklearn.linear_model import LogisticRegression\n",
    "from sklearn.ensemble import RandomForestClassifier\n",
    "\n",
    "import matplotlib.pyplot as plt\n",
    "import numpy as np\n",
    "import pandas as pd"
   ]
  },
  {
   "cell_type": "code",
   "execution_count": 3,
   "metadata": {},
   "outputs": [],
   "source": [
    "embedding = np.load('/datasets/dsc180a-wi20-public/Malware/group_data/group_02/sensitive_data/processed/node2vec/graph_2.npy')\n",
    "g = io.loadmat('/datasets/dsc180a-wi20-public/Malware/group_data/group_02/sensitive_data/interim/graph/graph_2.mat')\n",
    "y = g['post_label'].reshape(-1,)\n",
    "\n",
    "post_cate = g['post_cate']\n",
    "subreddit_cate = post_cate[:, :-1]\n",
    "community_cate = (~post_cate[:, -1].astype(bool)).astype(int)\n",
    "cate = np.array(subreddit_cate.argmax(1)).reshape(-1,)"
   ]
  },
  {
   "cell_type": "markdown",
   "metadata": {},
   "source": [
    "# Graph 2"
   ]
  },
  {
   "cell_type": "code",
   "execution_count": 7,
   "metadata": {},
   "outputs": [],
   "source": [
    "def evaluate(clf, X_train, y_train, X_test, y_test):\n",
    "    METRICS = [\n",
    "        keras.metrics.TruePositives(name='tp'),\n",
    "        keras.metrics.FalsePositives(name='fp'),\n",
    "        keras.metrics.TrueNegatives(name='tn'),\n",
    "        keras.metrics.FalseNegatives(name='fn'), \n",
    "        keras.metrics.BinaryAccuracy(name='accuracy'),\n",
    "        keras.metrics.Precision(name='precision'),\n",
    "        keras.metrics.Recall(name='recall'),\n",
    "        keras.metrics.AUC(name='auc'),\n",
    "    ]   \n",
    "    clf.fit(X_train, y_train)\n",
    "    y_pred = clf.predict(X_test)\n",
    "    res = {}\n",
    "    for i in METRICS:\n",
    "        res[i.name] = i(y_test, y_pred).numpy()\n",
    "    return res"
   ]
  },
  {
   "cell_type": "markdown",
   "metadata": {},
   "source": [
    "# Node2vec"
   ]
  },
  {
   "cell_type": "markdown",
   "metadata": {},
   "source": [
    "## Hatefulpost detection"
   ]
  },
  {
   "cell_type": "code",
   "execution_count": 8,
   "metadata": {},
   "outputs": [
    {
     "name": "stdout",
     "output_type": "stream",
     "text": [
      "Examples:\n",
      "    Total: 103413\n",
      "    Positive: 4409 (4.26% of total)\n",
      "\n",
      "{0: 0.5222667770999152, 1: 11.72748922658199}\n"
     ]
    },
    {
     "data": {
      "text/html": [
       "<div>\n",
       "<style scoped>\n",
       "    .dataframe tbody tr th:only-of-type {\n",
       "        vertical-align: middle;\n",
       "    }\n",
       "\n",
       "    .dataframe tbody tr th {\n",
       "        vertical-align: top;\n",
       "    }\n",
       "\n",
       "    .dataframe thead th {\n",
       "        text-align: right;\n",
       "    }\n",
       "</style>\n",
       "<table border=\"1\" class=\"dataframe\">\n",
       "  <thead>\n",
       "    <tr style=\"text-align: right;\">\n",
       "      <th></th>\n",
       "      <th>tp</th>\n",
       "      <th>fp</th>\n",
       "      <th>tn</th>\n",
       "      <th>fn</th>\n",
       "      <th>accuracy</th>\n",
       "      <th>precision</th>\n",
       "      <th>recall</th>\n",
       "      <th>auc</th>\n",
       "    </tr>\n",
       "  </thead>\n",
       "  <tbody>\n",
       "    <tr>\n",
       "      <th>LogisticRegression</th>\n",
       "      <td>549.0</td>\n",
       "      <td>7851.0</td>\n",
       "      <td>11951.0</td>\n",
       "      <td>332.0</td>\n",
       "      <td>0.604361</td>\n",
       "      <td>0.065357</td>\n",
       "      <td>0.623156</td>\n",
       "      <td>0.61334</td>\n",
       "    </tr>\n",
       "    <tr>\n",
       "      <th>RandomForestClassifier</th>\n",
       "      <td>0.0</td>\n",
       "      <td>0.0</td>\n",
       "      <td>19802.0</td>\n",
       "      <td>881.0</td>\n",
       "      <td>0.957405</td>\n",
       "      <td>0.000000</td>\n",
       "      <td>0.000000</td>\n",
       "      <td>0.50000</td>\n",
       "    </tr>\n",
       "  </tbody>\n",
       "</table>\n",
       "</div>"
      ],
      "text/plain": [
       "                           tp      fp       tn     fn  accuracy  precision  \\\n",
       "LogisticRegression      549.0  7851.0  11951.0  332.0  0.604361   0.065357   \n",
       "RandomForestClassifier    0.0     0.0  19802.0  881.0  0.957405   0.000000   \n",
       "\n",
       "                          recall      auc  \n",
       "LogisticRegression      0.623156  0.61334  \n",
       "RandomForestClassifier  0.000000  0.50000  "
      ]
     },
     "metadata": {},
     "output_type": "display_data"
    }
   ],
   "source": [
    "neg, pos = np.bincount(y)\n",
    "total = neg + pos\n",
    "print('Examples:\\n    Total: {}\\n    Positive: {} ({:.2f}% of total)\\n'.format(\n",
    "    total, pos, 100 * pos / total))\n",
    "weight_for_0 = (1 / neg)*(total)/2.0 \n",
    "weight_for_1 = (1 / pos)*(total)/2.0\n",
    "class_weight = {0: weight_for_0, 1: weight_for_1}\n",
    "print(class_weight)\n",
    "X_train, X_test, y_train, y_test = train_test_split(embedding, y, test_size=0.2)\n",
    "clfs = [\n",
    "        LogisticRegression(\n",
    "        solver='lbfgs',verbose=False, max_iter=2000, class_weight = class_weight, n_jobs=8\n",
    "        ),\n",
    "        RandomForestClassifier(class_weight=class_weight, n_jobs=8)\n",
    "    ]\n",
    "res = {}\n",
    "for clf in clfs:\n",
    "    res[clf.__class__.__name__] = evaluate(clf, X_train, y_train, X_test, y_test)\n",
    "res = pd.DataFrame(res).T\n",
    "display(res)"
   ]
  },
  {
   "cell_type": "markdown",
   "metadata": {},
   "source": [
    "## community: controversial vs. normal"
   ]
  },
  {
   "cell_type": "code",
   "execution_count": 9,
   "metadata": {},
   "outputs": [
    {
     "name": "stdout",
     "output_type": "stream",
     "text": [
      "Examples:\n",
      "    Total: 103413\n",
      "    Positive: 80225 (77.58% of total)\n",
      "\n",
      "{0: 2.22988183543212, 1: 0.644518541601745}\n"
     ]
    },
    {
     "data": {
      "text/html": [
       "<div>\n",
       "<style scoped>\n",
       "    .dataframe tbody tr th:only-of-type {\n",
       "        vertical-align: middle;\n",
       "    }\n",
       "\n",
       "    .dataframe tbody tr th {\n",
       "        vertical-align: top;\n",
       "    }\n",
       "\n",
       "    .dataframe thead th {\n",
       "        text-align: right;\n",
       "    }\n",
       "</style>\n",
       "<table border=\"1\" class=\"dataframe\">\n",
       "  <thead>\n",
       "    <tr style=\"text-align: right;\">\n",
       "      <th></th>\n",
       "      <th>tp</th>\n",
       "      <th>fp</th>\n",
       "      <th>tn</th>\n",
       "      <th>fn</th>\n",
       "      <th>accuracy</th>\n",
       "      <th>precision</th>\n",
       "      <th>recall</th>\n",
       "      <th>auc</th>\n",
       "    </tr>\n",
       "  </thead>\n",
       "  <tbody>\n",
       "    <tr>\n",
       "      <th>LogisticRegression</th>\n",
       "      <td>14057.0</td>\n",
       "      <td>717.0</td>\n",
       "      <td>3997.0</td>\n",
       "      <td>1912.0</td>\n",
       "      <td>0.872891</td>\n",
       "      <td>0.951469</td>\n",
       "      <td>0.880268</td>\n",
       "      <td>0.864084</td>\n",
       "    </tr>\n",
       "    <tr>\n",
       "      <th>RandomForestClassifier</th>\n",
       "      <td>15931.0</td>\n",
       "      <td>2256.0</td>\n",
       "      <td>2458.0</td>\n",
       "      <td>38.0</td>\n",
       "      <td>0.889088</td>\n",
       "      <td>0.875955</td>\n",
       "      <td>0.997620</td>\n",
       "      <td>0.759523</td>\n",
       "    </tr>\n",
       "  </tbody>\n",
       "</table>\n",
       "</div>"
      ],
      "text/plain": [
       "                             tp      fp      tn      fn  accuracy  precision  \\\n",
       "LogisticRegression      14057.0   717.0  3997.0  1912.0  0.872891   0.951469   \n",
       "RandomForestClassifier  15931.0  2256.0  2458.0    38.0  0.889088   0.875955   \n",
       "\n",
       "                          recall       auc  \n",
       "LogisticRegression      0.880268  0.864084  \n",
       "RandomForestClassifier  0.997620  0.759523  "
      ]
     },
     "metadata": {},
     "output_type": "display_data"
    }
   ],
   "source": [
    "neg, pos = np.bincount(community_cate)\n",
    "total = neg + pos\n",
    "print('Examples:\\n    Total: {}\\n    Positive: {} ({:.2f}% of total)\\n'.format(\n",
    "    total, pos, 100 * pos / total))\n",
    "weight_for_0 = (1 / neg)*(total)/2.0 \n",
    "weight_for_1 = (1 / pos)*(total)/2.0\n",
    "class_weight = {0: weight_for_0, 1: weight_for_1}\n",
    "print(class_weight)\n",
    "X_train, X_test, y_train, y_test = train_test_split(embedding, community_cate, test_size=0.2)\n",
    "clfs = [\n",
    "        LogisticRegression(\n",
    "        solver='lbfgs',verbose=False, max_iter=2000, class_weight = class_weight, n_jobs=8\n",
    "        ),\n",
    "        RandomForestClassifier(class_weight=class_weight, n_jobs=8)\n",
    "    ]\n",
    "res = {}\n",
    "for clf in clfs:\n",
    "    res[clf.__class__.__name__] = evaluate(clf, X_train, y_train, X_test, y_test)\n",
    "res = pd.DataFrame(res).T\n",
    "display(res)"
   ]
  },
  {
   "cell_type": "markdown",
   "metadata": {},
   "source": [
    "## community: subreddits"
   ]
  },
  {
   "cell_type": "code",
   "execution_count": 10,
   "metadata": {},
   "outputs": [
    {
     "data": {
      "text/plain": [
       "{'LogisticRegression': 0.8407387709713291,\n",
       " 'RandomForestClassifier': 0.8071846443939468}"
      ]
     },
     "execution_count": 10,
     "metadata": {},
     "output_type": "execute_result"
    }
   ],
   "source": [
    "X_train, X_test, y_train, y_test = train_test_split(embedding, cate, test_size=0.2)\n",
    "clfs = [\n",
    "        LogisticRegression(\n",
    "        verbose=False, max_iter=2000, class_weight = 'balanced', n_jobs=8\n",
    "        ),\n",
    "#         LinearSVC(class_weight=class_weight),\n",
    "        RandomForestClassifier(class_weight='balanced', n_jobs=8)\n",
    "    ]\n",
    "res = {}\n",
    "for clf in clfs:\n",
    "    clf.fit(X_train, y_train)\n",
    "    res[clf.__class__.__name__] = clf.score(X_test, y_test)\n",
    "res"
   ]
  },
  {
   "cell_type": "markdown",
   "metadata": {},
   "source": [
    "# metapath2vec"
   ]
  },
  {
   "cell_type": "markdown",
   "metadata": {},
   "source": [
    "## Hateful post detection"
   ]
  },
  {
   "cell_type": "code",
   "execution_count": 11,
   "metadata": {},
   "outputs": [],
   "source": [
    "embedding = np.load('/datasets/dsc180a-wi20-public/Malware/group_data/group_02/sensitive_data/processed/metapath2vec/graph_2.npy')"
   ]
  },
  {
   "cell_type": "code",
   "execution_count": 12,
   "metadata": {},
   "outputs": [
    {
     "name": "stdout",
     "output_type": "stream",
     "text": [
      "Examples:\n",
      "    Total: 103413\n",
      "    Positive: 4409 (4.26% of total)\n",
      "\n",
      "{0: 0.5222667770999152, 1: 11.72748922658199}\n"
     ]
    },
    {
     "data": {
      "text/html": [
       "<div>\n",
       "<style scoped>\n",
       "    .dataframe tbody tr th:only-of-type {\n",
       "        vertical-align: middle;\n",
       "    }\n",
       "\n",
       "    .dataframe tbody tr th {\n",
       "        vertical-align: top;\n",
       "    }\n",
       "\n",
       "    .dataframe thead th {\n",
       "        text-align: right;\n",
       "    }\n",
       "</style>\n",
       "<table border=\"1\" class=\"dataframe\">\n",
       "  <thead>\n",
       "    <tr style=\"text-align: right;\">\n",
       "      <th></th>\n",
       "      <th>tp</th>\n",
       "      <th>fp</th>\n",
       "      <th>tn</th>\n",
       "      <th>fn</th>\n",
       "      <th>accuracy</th>\n",
       "      <th>precision</th>\n",
       "      <th>recall</th>\n",
       "      <th>auc</th>\n",
       "    </tr>\n",
       "  </thead>\n",
       "  <tbody>\n",
       "    <tr>\n",
       "      <th>LogisticRegression</th>\n",
       "      <td>517.0</td>\n",
       "      <td>8220.0</td>\n",
       "      <td>11558.0</td>\n",
       "      <td>388.0</td>\n",
       "      <td>0.583813</td>\n",
       "      <td>0.059174</td>\n",
       "      <td>0.571271</td>\n",
       "      <td>0.577829</td>\n",
       "    </tr>\n",
       "    <tr>\n",
       "      <th>RandomForestClassifier</th>\n",
       "      <td>0.0</td>\n",
       "      <td>0.0</td>\n",
       "      <td>19778.0</td>\n",
       "      <td>905.0</td>\n",
       "      <td>0.956244</td>\n",
       "      <td>0.000000</td>\n",
       "      <td>0.000000</td>\n",
       "      <td>0.500000</td>\n",
       "    </tr>\n",
       "  </tbody>\n",
       "</table>\n",
       "</div>"
      ],
      "text/plain": [
       "                           tp      fp       tn     fn  accuracy  precision  \\\n",
       "LogisticRegression      517.0  8220.0  11558.0  388.0  0.583813   0.059174   \n",
       "RandomForestClassifier    0.0     0.0  19778.0  905.0  0.956244   0.000000   \n",
       "\n",
       "                          recall       auc  \n",
       "LogisticRegression      0.571271  0.577829  \n",
       "RandomForestClassifier  0.000000  0.500000  "
      ]
     },
     "metadata": {},
     "output_type": "display_data"
    }
   ],
   "source": [
    "neg, pos = np.bincount(y)\n",
    "total = neg + pos\n",
    "print('Examples:\\n    Total: {}\\n    Positive: {} ({:.2f}% of total)\\n'.format(\n",
    "    total, pos, 100 * pos / total))\n",
    "weight_for_0 = (1 / neg)*(total)/2.0 \n",
    "weight_for_1 = (1 / pos)*(total)/2.0\n",
    "class_weight = {0: weight_for_0, 1: weight_for_1}\n",
    "print(class_weight)\n",
    "X_train, X_test, y_train, y_test = train_test_split(embedding, y, test_size=0.2)\n",
    "clfs = [\n",
    "        LogisticRegression(\n",
    "        solver='lbfgs',verbose=False, max_iter=2000, class_weight = class_weight, n_jobs=8\n",
    "        ),\n",
    "        RandomForestClassifier(class_weight=class_weight, n_jobs=8)\n",
    "    ]\n",
    "res = {}\n",
    "for clf in clfs:\n",
    "    res[clf.__class__.__name__] = evaluate(clf, X_train, y_train, X_test, y_test)\n",
    "res = pd.DataFrame(res).T\n",
    "display(res)"
   ]
  },
  {
   "cell_type": "markdown",
   "metadata": {},
   "source": [
    "## Community: controversial vs. normal detection"
   ]
  },
  {
   "cell_type": "code",
   "execution_count": 13,
   "metadata": {},
   "outputs": [
    {
     "name": "stdout",
     "output_type": "stream",
     "text": [
      "Examples:\n",
      "    Total: 103413\n",
      "    Positive: 80225 (77.58% of total)\n",
      "\n",
      "{0: 2.22988183543212, 1: 0.644518541601745}\n"
     ]
    },
    {
     "data": {
      "text/html": [
       "<div>\n",
       "<style scoped>\n",
       "    .dataframe tbody tr th:only-of-type {\n",
       "        vertical-align: middle;\n",
       "    }\n",
       "\n",
       "    .dataframe tbody tr th {\n",
       "        vertical-align: top;\n",
       "    }\n",
       "\n",
       "    .dataframe thead th {\n",
       "        text-align: right;\n",
       "    }\n",
       "</style>\n",
       "<table border=\"1\" class=\"dataframe\">\n",
       "  <thead>\n",
       "    <tr style=\"text-align: right;\">\n",
       "      <th></th>\n",
       "      <th>tp</th>\n",
       "      <th>fp</th>\n",
       "      <th>tn</th>\n",
       "      <th>fn</th>\n",
       "      <th>accuracy</th>\n",
       "      <th>precision</th>\n",
       "      <th>recall</th>\n",
       "      <th>auc</th>\n",
       "    </tr>\n",
       "  </thead>\n",
       "  <tbody>\n",
       "    <tr>\n",
       "      <th>LogisticRegression</th>\n",
       "      <td>12470.0</td>\n",
       "      <td>1280.0</td>\n",
       "      <td>3389.0</td>\n",
       "      <td>3544.0</td>\n",
       "      <td>0.766765</td>\n",
       "      <td>0.906909</td>\n",
       "      <td>0.778694</td>\n",
       "      <td>0.752273</td>\n",
       "    </tr>\n",
       "    <tr>\n",
       "      <th>RandomForestClassifier</th>\n",
       "      <td>15971.0</td>\n",
       "      <td>3339.0</td>\n",
       "      <td>1330.0</td>\n",
       "      <td>43.0</td>\n",
       "      <td>0.836484</td>\n",
       "      <td>0.827084</td>\n",
       "      <td>0.997315</td>\n",
       "      <td>0.641086</td>\n",
       "    </tr>\n",
       "  </tbody>\n",
       "</table>\n",
       "</div>"
      ],
      "text/plain": [
       "                             tp      fp      tn      fn  accuracy  precision  \\\n",
       "LogisticRegression      12470.0  1280.0  3389.0  3544.0  0.766765   0.906909   \n",
       "RandomForestClassifier  15971.0  3339.0  1330.0    43.0  0.836484   0.827084   \n",
       "\n",
       "                          recall       auc  \n",
       "LogisticRegression      0.778694  0.752273  \n",
       "RandomForestClassifier  0.997315  0.641086  "
      ]
     },
     "metadata": {},
     "output_type": "display_data"
    }
   ],
   "source": [
    "neg, pos = np.bincount(community_cate)\n",
    "total = neg + pos\n",
    "print('Examples:\\n    Total: {}\\n    Positive: {} ({:.2f}% of total)\\n'.format(\n",
    "    total, pos, 100 * pos / total))\n",
    "weight_for_0 = (1 / neg)*(total)/2.0 \n",
    "weight_for_1 = (1 / pos)*(total)/2.0\n",
    "class_weight = {0: weight_for_0, 1: weight_for_1}\n",
    "print(class_weight)\n",
    "X_train, X_test, y_train, y_test = train_test_split(embedding, community_cate, test_size=0.2)\n",
    "clfs = [\n",
    "        LogisticRegression(\n",
    "        solver='lbfgs',verbose=False, max_iter=2000, class_weight = class_weight, n_jobs=8\n",
    "        ),\n",
    "        RandomForestClassifier(class_weight=class_weight, n_jobs=8)\n",
    "    ]\n",
    "res = {}\n",
    "for clf in clfs:\n",
    "    res[clf.__class__.__name__] = evaluate(clf, X_train, y_train, X_test, y_test)\n",
    "res = pd.DataFrame(res).T\n",
    "display(res)"
   ]
  },
  {
   "cell_type": "markdown",
   "metadata": {},
   "source": [
    "## Community: subreddits detection"
   ]
  },
  {
   "cell_type": "code",
   "execution_count": 14,
   "metadata": {},
   "outputs": [
    {
     "data": {
      "text/plain": [
       "{'LogisticRegression': 0.6431852245805734,\n",
       " 'RandomForestClassifier': 0.598027365469226}"
      ]
     },
     "execution_count": 14,
     "metadata": {},
     "output_type": "execute_result"
    }
   ],
   "source": [
    "X_train, X_test, y_train, y_test = train_test_split(embedding, cate, test_size=0.2)\n",
    "clfs = [\n",
    "        LogisticRegression(\n",
    "        verbose=False, max_iter=2000, class_weight = 'balanced', n_jobs=8\n",
    "        ),\n",
    "#         LinearSVC(class_weight=class_weight),\n",
    "        RandomForestClassifier(class_weight='balanced', n_jobs=8)\n",
    "    ]\n",
    "res = {}\n",
    "for clf in clfs:\n",
    "    clf.fit(X_train, y_train)\n",
    "    res[clf.__class__.__name__] = clf.score(X_test, y_test)\n",
    "res"
   ]
  },
  {
   "cell_type": "markdown",
   "metadata": {},
   "source": [
    "# Infomax"
   ]
  },
  {
   "cell_type": "markdown",
   "metadata": {},
   "source": [
    "## Hatefulpost detection"
   ]
  },
  {
   "cell_type": "code",
   "execution_count": 16,
   "metadata": {
    "scrolled": true
   },
   "outputs": [
    {
     "name": "stdout",
     "output_type": "stream",
     "text": [
      "Examples:\n",
      "    Total: 103413\n",
      "    Positive: 4409 (4.26% of total)\n",
      "\n",
      "{0: 0.5222667770999152, 1: 11.72748922658199}\n"
     ]
    },
    {
     "data": {
      "text/html": [
       "<div>\n",
       "<style scoped>\n",
       "    .dataframe tbody tr th:only-of-type {\n",
       "        vertical-align: middle;\n",
       "    }\n",
       "\n",
       "    .dataframe tbody tr th {\n",
       "        vertical-align: top;\n",
       "    }\n",
       "\n",
       "    .dataframe thead th {\n",
       "        text-align: right;\n",
       "    }\n",
       "</style>\n",
       "<table border=\"1\" class=\"dataframe\">\n",
       "  <thead>\n",
       "    <tr style=\"text-align: right;\">\n",
       "      <th></th>\n",
       "      <th>tp</th>\n",
       "      <th>fp</th>\n",
       "      <th>tn</th>\n",
       "      <th>fn</th>\n",
       "      <th>accuracy</th>\n",
       "      <th>precision</th>\n",
       "      <th>recall</th>\n",
       "      <th>auc</th>\n",
       "    </tr>\n",
       "  </thead>\n",
       "  <tbody>\n",
       "    <tr>\n",
       "      <th>LogisticRegression</th>\n",
       "      <td>583.0</td>\n",
       "      <td>7124.0</td>\n",
       "      <td>12691.0</td>\n",
       "      <td>285.0</td>\n",
       "      <td>0.641783</td>\n",
       "      <td>0.075646</td>\n",
       "      <td>0.671659</td>\n",
       "      <td>0.656067</td>\n",
       "    </tr>\n",
       "    <tr>\n",
       "      <th>RandomForestClassifier</th>\n",
       "      <td>423.0</td>\n",
       "      <td>5043.0</td>\n",
       "      <td>14772.0</td>\n",
       "      <td>445.0</td>\n",
       "      <td>0.734661</td>\n",
       "      <td>0.077387</td>\n",
       "      <td>0.487327</td>\n",
       "      <td>0.616412</td>\n",
       "    </tr>\n",
       "  </tbody>\n",
       "</table>\n",
       "</div>"
      ],
      "text/plain": [
       "                           tp      fp       tn     fn  accuracy  precision  \\\n",
       "LogisticRegression      583.0  7124.0  12691.0  285.0  0.641783   0.075646   \n",
       "RandomForestClassifier  423.0  5043.0  14772.0  445.0  0.734661   0.077387   \n",
       "\n",
       "                          recall       auc  \n",
       "LogisticRegression      0.671659  0.656067  \n",
       "RandomForestClassifier  0.487327  0.616412  "
      ]
     },
     "metadata": {},
     "output_type": "display_data"
    }
   ],
   "source": [
    "embedding = np.load('/datasets/dsc180a-wi20-public/Malware/group_data/group_02/sensitive_data/processed/infomax/graph_2.npy')\n",
    "neg, pos = np.bincount(y)\n",
    "total = neg + pos\n",
    "print('Examples:\\n    Total: {}\\n    Positive: {} ({:.2f}% of total)\\n'.format(\n",
    "    total, pos, 100 * pos / total))\n",
    "weight_for_0 = (1 / neg)*(total)/2.0 \n",
    "weight_for_1 = (1 / pos)*(total)/2.0\n",
    "class_weight = {0: weight_for_0, 1: weight_for_1}\n",
    "print(class_weight)\n",
    "X_train, X_test, y_train, y_test = train_test_split(embedding, y, test_size=0.2)\n",
    "clfs = [\n",
    "        LogisticRegression(\n",
    "        solver='lbfgs',verbose=False, max_iter=2000, class_weight = class_weight, n_jobs=8\n",
    "        ),\n",
    "        RandomForestClassifier(class_weight=class_weight, n_jobs=8)\n",
    "    ]\n",
    "res = {}\n",
    "for clf in clfs:\n",
    "    res[clf.__class__.__name__] = evaluate(clf, X_train, y_train, X_test, y_test)\n",
    "res = pd.DataFrame(res).T\n",
    "display(res)"
   ]
  }
 ],
 "metadata": {
  "kernelspec": {
   "display_name": "Python 3",
   "language": "python",
   "name": "python3"
  },
  "language_info": {
   "codemirror_mode": {
    "name": "ipython",
    "version": 3
   },
   "file_extension": ".py",
   "mimetype": "text/x-python",
   "name": "python",
   "nbconvert_exporter": "python",
   "pygments_lexer": "ipython3",
   "version": "3.7.6"
  }
 },
 "nbformat": 4,
 "nbformat_minor": 4
}
