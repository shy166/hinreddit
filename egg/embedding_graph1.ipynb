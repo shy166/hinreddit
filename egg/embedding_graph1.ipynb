{
 "cells": [
  {
   "cell_type": "code",
   "execution_count": 1,
   "metadata": {},
   "outputs": [],
   "source": [
    "import torch\n",
    "from scipy import io\n",
    "from tensorflow import keras\n",
    "# from tsnecuda import TSNE\n",
    "from sklearn.model_selection import train_test_split\n",
    "from sklearn.linear_model import LogisticRegression\n",
    "from sklearn.ensemble import RandomForestClassifier\n",
    "\n",
    "import matplotlib.pyplot as plt\n",
    "import numpy as np\n",
    "import pandas as pd"
   ]
  },
  {
   "cell_type": "code",
   "execution_count": 15,
   "metadata": {},
   "outputs": [],
   "source": [
    "embedding = np.load('/datasets/dsc180a-wi20-public/Malware/group_data/group_02/sensitive_data/processed/node2vec/graph_1.npy')\n",
    "g = io.loadmat('/datasets/dsc180a-wi20-public/Malware/group_data/group_02/sensitive_data/interim/graph/graph_1.mat')\n",
    "y = g['post_label'].reshape(-1,)\n",
    "\n",
    "post_cate = g['post_cate']\n",
    "subreddit_cate = post_cate[:, :-1]\n",
    "community_cate = (~post_cate[:, -1].astype(bool)).astype(int)\n",
    "cate = np.array(subreddit_cate.argmax(1)).reshape(-1,)"
   ]
  },
  {
   "cell_type": "markdown",
   "metadata": {},
   "source": [
    "# Graph1"
   ]
  },
  {
   "cell_type": "code",
   "execution_count": 4,
   "metadata": {},
   "outputs": [],
   "source": [
    "def evaluate(clf, X_train, y_train, X_test, y_test):\n",
    "    METRICS = [\n",
    "        keras.metrics.TruePositives(name='tp'),\n",
    "        keras.metrics.FalsePositives(name='fp'),\n",
    "        keras.metrics.TrueNegatives(name='tn'),\n",
    "        keras.metrics.FalseNegatives(name='fn'), \n",
    "        keras.metrics.BinaryAccuracy(name='accuracy'),\n",
    "        keras.metrics.Precision(name='precision'),\n",
    "        keras.metrics.Recall(name='recall'),\n",
    "        keras.metrics.AUC(name='auc'),\n",
    "    ]   \n",
    "    clf.fit(X_train, y_train)\n",
    "    y_pred = clf.predict(X_test)\n",
    "    res = {}\n",
    "    for i in METRICS:\n",
    "        res[i.name] = i(y_test, y_pred).numpy()\n",
    "    return res"
   ]
  },
  {
   "cell_type": "markdown",
   "metadata": {},
   "source": [
    "# Node2vec"
   ]
  },
  {
   "cell_type": "markdown",
   "metadata": {},
   "source": [
    "## Hatefulpost detection"
   ]
  },
  {
   "cell_type": "code",
   "execution_count": 5,
   "metadata": {},
   "outputs": [
    {
     "name": "stdout",
     "output_type": "stream",
     "text": [
      "Examples:\n",
      "    Total: 103413\n",
      "    Positive: 4409 (4.26% of total)\n",
      "\n",
      "{0: 0.5222667770999152, 1: 11.72748922658199}\n"
     ]
    },
    {
     "data": {
      "text/html": [
       "<div>\n",
       "<style scoped>\n",
       "    .dataframe tbody tr th:only-of-type {\n",
       "        vertical-align: middle;\n",
       "    }\n",
       "\n",
       "    .dataframe tbody tr th {\n",
       "        vertical-align: top;\n",
       "    }\n",
       "\n",
       "    .dataframe thead th {\n",
       "        text-align: right;\n",
       "    }\n",
       "</style>\n",
       "<table border=\"1\" class=\"dataframe\">\n",
       "  <thead>\n",
       "    <tr style=\"text-align: right;\">\n",
       "      <th></th>\n",
       "      <th>tp</th>\n",
       "      <th>fp</th>\n",
       "      <th>tn</th>\n",
       "      <th>fn</th>\n",
       "      <th>accuracy</th>\n",
       "      <th>precision</th>\n",
       "      <th>recall</th>\n",
       "      <th>auc</th>\n",
       "    </tr>\n",
       "  </thead>\n",
       "  <tbody>\n",
       "    <tr>\n",
       "      <th>LogisticRegression</th>\n",
       "      <td>488.0</td>\n",
       "      <td>7956.0</td>\n",
       "      <td>11876.0</td>\n",
       "      <td>363.0</td>\n",
       "      <td>0.597786</td>\n",
       "      <td>0.057793</td>\n",
       "      <td>0.573443</td>\n",
       "      <td>0.586137</td>\n",
       "    </tr>\n",
       "    <tr>\n",
       "      <th>RandomForestClassifier</th>\n",
       "      <td>0.0</td>\n",
       "      <td>0.0</td>\n",
       "      <td>19832.0</td>\n",
       "      <td>851.0</td>\n",
       "      <td>0.958855</td>\n",
       "      <td>0.000000</td>\n",
       "      <td>0.000000</td>\n",
       "      <td>0.500000</td>\n",
       "    </tr>\n",
       "  </tbody>\n",
       "</table>\n",
       "</div>"
      ],
      "text/plain": [
       "                           tp      fp       tn     fn  accuracy  precision  \\\n",
       "LogisticRegression      488.0  7956.0  11876.0  363.0  0.597786   0.057793   \n",
       "RandomForestClassifier    0.0     0.0  19832.0  851.0  0.958855   0.000000   \n",
       "\n",
       "                          recall       auc  \n",
       "LogisticRegression      0.573443  0.586137  \n",
       "RandomForestClassifier  0.000000  0.500000  "
      ]
     },
     "metadata": {},
     "output_type": "display_data"
    }
   ],
   "source": [
    "neg, pos = np.bincount(y)\n",
    "total = neg + pos\n",
    "print('Examples:\\n    Total: {}\\n    Positive: {} ({:.2f}% of total)\\n'.format(\n",
    "    total, pos, 100 * pos / total))\n",
    "weight_for_0 = (1 / neg)*(total)/2.0 \n",
    "weight_for_1 = (1 / pos)*(total)/2.0\n",
    "class_weight = {0: weight_for_0, 1: weight_for_1}\n",
    "print(class_weight)\n",
    "X_train, X_test, y_train, y_test = train_test_split(embedding, y, test_size=0.2)\n",
    "clfs = [\n",
    "        LogisticRegression(\n",
    "        solver='lbfgs',verbose=False, max_iter=2000, class_weight = class_weight, n_jobs=8\n",
    "        ),\n",
    "        RandomForestClassifier(class_weight=class_weight, n_jobs=8)\n",
    "    ]\n",
    "res = {}\n",
    "for clf in clfs:\n",
    "    res[clf.__class__.__name__] = evaluate(clf, X_train, y_train, X_test, y_test)\n",
    "res = pd.DataFrame(res).T\n",
    "display(res)"
   ]
  },
  {
   "cell_type": "markdown",
   "metadata": {},
   "source": [
    "## community: controversial vs. normal"
   ]
  },
  {
   "cell_type": "code",
   "execution_count": 17,
   "metadata": {},
   "outputs": [
    {
     "name": "stdout",
     "output_type": "stream",
     "text": [
      "Examples:\n",
      "    Total: 103413\n",
      "    Positive: 80225 (77.58% of total)\n",
      "\n",
      "{0: 2.22988183543212, 1: 0.644518541601745}\n"
     ]
    },
    {
     "data": {
      "text/html": [
       "<div>\n",
       "<style scoped>\n",
       "    .dataframe tbody tr th:only-of-type {\n",
       "        vertical-align: middle;\n",
       "    }\n",
       "\n",
       "    .dataframe tbody tr th {\n",
       "        vertical-align: top;\n",
       "    }\n",
       "\n",
       "    .dataframe thead th {\n",
       "        text-align: right;\n",
       "    }\n",
       "</style>\n",
       "<table border=\"1\" class=\"dataframe\">\n",
       "  <thead>\n",
       "    <tr style=\"text-align: right;\">\n",
       "      <th></th>\n",
       "      <th>tp</th>\n",
       "      <th>fp</th>\n",
       "      <th>tn</th>\n",
       "      <th>fn</th>\n",
       "      <th>accuracy</th>\n",
       "      <th>precision</th>\n",
       "      <th>recall</th>\n",
       "      <th>auc</th>\n",
       "    </tr>\n",
       "  </thead>\n",
       "  <tbody>\n",
       "    <tr>\n",
       "      <th>LogisticRegression</th>\n",
       "      <td>13318.0</td>\n",
       "      <td>917.0</td>\n",
       "      <td>3767.0</td>\n",
       "      <td>2681.0</td>\n",
       "      <td>0.826041</td>\n",
       "      <td>0.935581</td>\n",
       "      <td>0.832427</td>\n",
       "      <td>0.818327</td>\n",
       "    </tr>\n",
       "    <tr>\n",
       "      <th>RandomForestClassifier</th>\n",
       "      <td>15962.0</td>\n",
       "      <td>2929.0</td>\n",
       "      <td>1755.0</td>\n",
       "      <td>37.0</td>\n",
       "      <td>0.856597</td>\n",
       "      <td>0.844953</td>\n",
       "      <td>0.997687</td>\n",
       "      <td>0.686184</td>\n",
       "    </tr>\n",
       "  </tbody>\n",
       "</table>\n",
       "</div>"
      ],
      "text/plain": [
       "                             tp      fp      tn      fn  accuracy  precision  \\\n",
       "LogisticRegression      13318.0   917.0  3767.0  2681.0  0.826041   0.935581   \n",
       "RandomForestClassifier  15962.0  2929.0  1755.0    37.0  0.856597   0.844953   \n",
       "\n",
       "                          recall       auc  \n",
       "LogisticRegression      0.832427  0.818327  \n",
       "RandomForestClassifier  0.997687  0.686184  "
      ]
     },
     "metadata": {},
     "output_type": "display_data"
    }
   ],
   "source": [
    "neg, pos = np.bincount(community_cate)\n",
    "total = neg + pos\n",
    "print('Examples:\\n    Total: {}\\n    Positive: {} ({:.2f}% of total)\\n'.format(\n",
    "    total, pos, 100 * pos / total))\n",
    "weight_for_0 = (1 / neg)*(total)/2.0 \n",
    "weight_for_1 = (1 / pos)*(total)/2.0\n",
    "class_weight = {0: weight_for_0, 1: weight_for_1}\n",
    "print(class_weight)\n",
    "X_train, X_test, y_train, y_test = train_test_split(embedding, community_cate, test_size=0.2)\n",
    "clfs = [\n",
    "        LogisticRegression(\n",
    "        solver='lbfgs',verbose=False, max_iter=2000, class_weight = class_weight, n_jobs=8\n",
    "        ),\n",
    "        RandomForestClassifier(class_weight=class_weight, n_jobs=8)\n",
    "    ]\n",
    "res = {}\n",
    "for clf in clfs:\n",
    "    res[clf.__class__.__name__] = evaluate(clf, X_train, y_train, X_test, y_test)\n",
    "res = pd.DataFrame(res).T\n",
    "display(res)"
   ]
  },
  {
   "cell_type": "markdown",
   "metadata": {},
   "source": [
    "## community: subreddits"
   ]
  },
  {
   "cell_type": "code",
   "execution_count": 7,
   "metadata": {},
   "outputs": [
    {
     "data": {
      "text/plain": [
       "{'LogisticRegression': 0.8065077599961321,\n",
       " 'RandomForestClassifier': 0.7484407484407485}"
      ]
     },
     "execution_count": 7,
     "metadata": {},
     "output_type": "execute_result"
    }
   ],
   "source": [
    "X_train, X_test, y_train, y_test = train_test_split(embedding, cate, test_size=0.2)\n",
    "clfs = [\n",
    "        LogisticRegression(\n",
    "        verbose=False, max_iter=2000, class_weight = 'balanced', n_jobs=8\n",
    "        ),\n",
    "#         LinearSVC(class_weight=class_weight),\n",
    "        RandomForestClassifier(class_weight='balanced', n_jobs=8)\n",
    "    ]\n",
    "res = {}\n",
    "for clf in clfs:\n",
    "    clf.fit(X_train, y_train)\n",
    "    res[clf.__class__.__name__] = clf.score(X_test, y_test)\n",
    "res"
   ]
  },
  {
   "cell_type": "markdown",
   "metadata": {},
   "source": [
    "# metapath2vec"
   ]
  },
  {
   "cell_type": "markdown",
   "metadata": {},
   "source": [
    "## Hateful post detection"
   ]
  },
  {
   "cell_type": "code",
   "execution_count": null,
   "metadata": {},
   "outputs": [],
   "source": [
    "embedding = np.load('/datasets/dsc180a-wi20-public/Malware/group_data/group_02/sensitive_data/processed/metapath2vec/graph_1.npy')"
   ]
  },
  {
   "cell_type": "code",
   "execution_count": 23,
   "metadata": {},
   "outputs": [
    {
     "name": "stdout",
     "output_type": "stream",
     "text": [
      "Examples:\n",
      "    Total: 103413\n",
      "    Positive: 4409 (4.26% of total)\n",
      "\n",
      "{0: 0.5222667770999152, 1: 11.72748922658199}\n"
     ]
    },
    {
     "data": {
      "text/html": [
       "<div>\n",
       "<style scoped>\n",
       "    .dataframe tbody tr th:only-of-type {\n",
       "        vertical-align: middle;\n",
       "    }\n",
       "\n",
       "    .dataframe tbody tr th {\n",
       "        vertical-align: top;\n",
       "    }\n",
       "\n",
       "    .dataframe thead th {\n",
       "        text-align: right;\n",
       "    }\n",
       "</style>\n",
       "<table border=\"1\" class=\"dataframe\">\n",
       "  <thead>\n",
       "    <tr style=\"text-align: right;\">\n",
       "      <th></th>\n",
       "      <th>tp</th>\n",
       "      <th>fp</th>\n",
       "      <th>tn</th>\n",
       "      <th>fn</th>\n",
       "      <th>accuracy</th>\n",
       "      <th>precision</th>\n",
       "      <th>recall</th>\n",
       "      <th>auc</th>\n",
       "    </tr>\n",
       "  </thead>\n",
       "  <tbody>\n",
       "    <tr>\n",
       "      <th>LogisticRegression</th>\n",
       "      <td>488.0</td>\n",
       "      <td>7750.0</td>\n",
       "      <td>12055.0</td>\n",
       "      <td>390.0</td>\n",
       "      <td>0.60644</td>\n",
       "      <td>0.059238</td>\n",
       "      <td>0.555809</td>\n",
       "      <td>0.582247</td>\n",
       "    </tr>\n",
       "    <tr>\n",
       "      <th>RandomForestClassifier</th>\n",
       "      <td>0.0</td>\n",
       "      <td>0.0</td>\n",
       "      <td>19805.0</td>\n",
       "      <td>878.0</td>\n",
       "      <td>0.95755</td>\n",
       "      <td>0.000000</td>\n",
       "      <td>0.000000</td>\n",
       "      <td>0.500000</td>\n",
       "    </tr>\n",
       "  </tbody>\n",
       "</table>\n",
       "</div>"
      ],
      "text/plain": [
       "                           tp      fp       tn     fn  accuracy  precision  \\\n",
       "LogisticRegression      488.0  7750.0  12055.0  390.0   0.60644   0.059238   \n",
       "RandomForestClassifier    0.0     0.0  19805.0  878.0   0.95755   0.000000   \n",
       "\n",
       "                          recall       auc  \n",
       "LogisticRegression      0.555809  0.582247  \n",
       "RandomForestClassifier  0.000000  0.500000  "
      ]
     },
     "metadata": {},
     "output_type": "display_data"
    }
   ],
   "source": [
    "neg, pos = np.bincount(y)\n",
    "total = neg + pos\n",
    "print('Examples:\\n    Total: {}\\n    Positive: {} ({:.2f}% of total)\\n'.format(\n",
    "    total, pos, 100 * pos / total))\n",
    "weight_for_0 = (1 / neg)*(total)/2.0 \n",
    "weight_for_1 = (1 / pos)*(total)/2.0\n",
    "class_weight = {0: weight_for_0, 1: weight_for_1}\n",
    "print(class_weight)\n",
    "X_train, X_test, y_train, y_test = train_test_split(embedding, y, test_size=0.2)\n",
    "clfs = [\n",
    "        LogisticRegression(\n",
    "        solver='lbfgs',verbose=False, max_iter=2000, class_weight = class_weight, n_jobs=8\n",
    "        ),\n",
    "        RandomForestClassifier(class_weight=class_weight, n_jobs=8)\n",
    "    ]\n",
    "res = {}\n",
    "for clf in clfs:\n",
    "    res[clf.__class__.__name__] = evaluate(clf, X_train, y_train, X_test, y_test)\n",
    "res = pd.DataFrame(res).T\n",
    "display(res)"
   ]
  },
  {
   "cell_type": "markdown",
   "metadata": {},
   "source": [
    "## Community: controversial vs. normal detection"
   ]
  },
  {
   "cell_type": "code",
   "execution_count": 24,
   "metadata": {},
   "outputs": [
    {
     "name": "stdout",
     "output_type": "stream",
     "text": [
      "Examples:\n",
      "    Total: 103413\n",
      "    Positive: 80225 (77.58% of total)\n",
      "\n",
      "{0: 2.22988183543212, 1: 0.644518541601745}\n"
     ]
    },
    {
     "data": {
      "text/html": [
       "<div>\n",
       "<style scoped>\n",
       "    .dataframe tbody tr th:only-of-type {\n",
       "        vertical-align: middle;\n",
       "    }\n",
       "\n",
       "    .dataframe tbody tr th {\n",
       "        vertical-align: top;\n",
       "    }\n",
       "\n",
       "    .dataframe thead th {\n",
       "        text-align: right;\n",
       "    }\n",
       "</style>\n",
       "<table border=\"1\" class=\"dataframe\">\n",
       "  <thead>\n",
       "    <tr style=\"text-align: right;\">\n",
       "      <th></th>\n",
       "      <th>tp</th>\n",
       "      <th>fp</th>\n",
       "      <th>tn</th>\n",
       "      <th>fn</th>\n",
       "      <th>accuracy</th>\n",
       "      <th>precision</th>\n",
       "      <th>recall</th>\n",
       "      <th>auc</th>\n",
       "    </tr>\n",
       "  </thead>\n",
       "  <tbody>\n",
       "    <tr>\n",
       "      <th>LogisticRegression</th>\n",
       "      <td>12658.0</td>\n",
       "      <td>1308.0</td>\n",
       "      <td>3396.0</td>\n",
       "      <td>3321.0</td>\n",
       "      <td>0.776193</td>\n",
       "      <td>0.906344</td>\n",
       "      <td>0.792165</td>\n",
       "      <td>0.757052</td>\n",
       "    </tr>\n",
       "    <tr>\n",
       "      <th>RandomForestClassifier</th>\n",
       "      <td>15915.0</td>\n",
       "      <td>3360.0</td>\n",
       "      <td>1344.0</td>\n",
       "      <td>64.0</td>\n",
       "      <td>0.834453</td>\n",
       "      <td>0.825681</td>\n",
       "      <td>0.995995</td>\n",
       "      <td>0.640854</td>\n",
       "    </tr>\n",
       "  </tbody>\n",
       "</table>\n",
       "</div>"
      ],
      "text/plain": [
       "                             tp      fp      tn      fn  accuracy  precision  \\\n",
       "LogisticRegression      12658.0  1308.0  3396.0  3321.0  0.776193   0.906344   \n",
       "RandomForestClassifier  15915.0  3360.0  1344.0    64.0  0.834453   0.825681   \n",
       "\n",
       "                          recall       auc  \n",
       "LogisticRegression      0.792165  0.757052  \n",
       "RandomForestClassifier  0.995995  0.640854  "
      ]
     },
     "metadata": {},
     "output_type": "display_data"
    }
   ],
   "source": [
    "neg, pos = np.bincount(community_cate)\n",
    "total = neg + pos\n",
    "print('Examples:\\n    Total: {}\\n    Positive: {} ({:.2f}% of total)\\n'.format(\n",
    "    total, pos, 100 * pos / total))\n",
    "weight_for_0 = (1 / neg)*(total)/2.0 \n",
    "weight_for_1 = (1 / pos)*(total)/2.0\n",
    "class_weight = {0: weight_for_0, 1: weight_for_1}\n",
    "print(class_weight)\n",
    "X_train, X_test, y_train, y_test = train_test_split(embedding, community_cate, test_size=0.2)\n",
    "clfs = [\n",
    "        LogisticRegression(\n",
    "        solver='lbfgs',verbose=False, max_iter=2000, class_weight = class_weight, n_jobs=8\n",
    "        ),\n",
    "        RandomForestClassifier(class_weight=class_weight, n_jobs=8)\n",
    "    ]\n",
    "res = {}\n",
    "for clf in clfs:\n",
    "    res[clf.__class__.__name__] = evaluate(clf, X_train, y_train, X_test, y_test)\n",
    "res = pd.DataFrame(res).T\n",
    "display(res)"
   ]
  },
  {
   "cell_type": "markdown",
   "metadata": {},
   "source": [
    "## Community: subreddits detection"
   ]
  },
  {
   "cell_type": "code",
   "execution_count": 25,
   "metadata": {},
   "outputs": [
    {
     "data": {
      "text/plain": [
       "{'LogisticRegression': 0.7048300536672629,\n",
       " 'RandomForestClassifier': 0.6225885993327854}"
      ]
     },
     "execution_count": 25,
     "metadata": {},
     "output_type": "execute_result"
    }
   ],
   "source": [
    "X_train, X_test, y_train, y_test = train_test_split(embedding, cate, test_size=0.2)\n",
    "clfs = [\n",
    "        LogisticRegression(\n",
    "        verbose=False, max_iter=2000, class_weight = 'balanced', n_jobs=8\n",
    "        ),\n",
    "#         LinearSVC(class_weight=class_weight),\n",
    "        RandomForestClassifier(class_weight='balanced', n_jobs=8)\n",
    "    ]\n",
    "res = {}\n",
    "for clf in clfs:\n",
    "    clf.fit(X_train, y_train)\n",
    "    res[clf.__class__.__name__] = clf.score(X_test, y_test)\n",
    "res"
   ]
  },
  {
   "cell_type": "markdown",
   "metadata": {},
   "source": [
    "# Infomax"
   ]
  },
  {
   "cell_type": "markdown",
   "metadata": {},
   "source": [
    "## Hatefulpost detection"
   ]
  },
  {
   "cell_type": "code",
   "execution_count": 19,
   "metadata": {
    "scrolled": true
   },
   "outputs": [
    {
     "name": "stdout",
     "output_type": "stream",
     "text": [
      "Examples:\n",
      "    Total: 103413\n",
      "    Positive: 4409 (4.26% of total)\n",
      "\n",
      "{0: 0.5222667770999152, 1: 11.72748922658199}\n"
     ]
    },
    {
     "data": {
      "text/html": [
       "<div>\n",
       "<style scoped>\n",
       "    .dataframe tbody tr th:only-of-type {\n",
       "        vertical-align: middle;\n",
       "    }\n",
       "\n",
       "    .dataframe tbody tr th {\n",
       "        vertical-align: top;\n",
       "    }\n",
       "\n",
       "    .dataframe thead th {\n",
       "        text-align: right;\n",
       "    }\n",
       "</style>\n",
       "<table border=\"1\" class=\"dataframe\">\n",
       "  <thead>\n",
       "    <tr style=\"text-align: right;\">\n",
       "      <th></th>\n",
       "      <th>tp</th>\n",
       "      <th>fp</th>\n",
       "      <th>tn</th>\n",
       "      <th>fn</th>\n",
       "      <th>accuracy</th>\n",
       "      <th>precision</th>\n",
       "      <th>recall</th>\n",
       "      <th>auc</th>\n",
       "    </tr>\n",
       "  </thead>\n",
       "  <tbody>\n",
       "    <tr>\n",
       "      <th>LogisticRegression</th>\n",
       "      <td>540.0</td>\n",
       "      <td>6010.0</td>\n",
       "      <td>13796.0</td>\n",
       "      <td>337.0</td>\n",
       "      <td>0.693130</td>\n",
       "      <td>0.082443</td>\n",
       "      <td>0.615735</td>\n",
       "      <td>0.656146</td>\n",
       "    </tr>\n",
       "    <tr>\n",
       "      <th>RandomForestClassifier</th>\n",
       "      <td>235.0</td>\n",
       "      <td>2288.0</td>\n",
       "      <td>17518.0</td>\n",
       "      <td>642.0</td>\n",
       "      <td>0.858338</td>\n",
       "      <td>0.093143</td>\n",
       "      <td>0.267959</td>\n",
       "      <td>0.576219</td>\n",
       "    </tr>\n",
       "  </tbody>\n",
       "</table>\n",
       "</div>"
      ],
      "text/plain": [
       "                           tp      fp       tn     fn  accuracy  precision  \\\n",
       "LogisticRegression      540.0  6010.0  13796.0  337.0  0.693130   0.082443   \n",
       "RandomForestClassifier  235.0  2288.0  17518.0  642.0  0.858338   0.093143   \n",
       "\n",
       "                          recall       auc  \n",
       "LogisticRegression      0.615735  0.656146  \n",
       "RandomForestClassifier  0.267959  0.576219  "
      ]
     },
     "metadata": {},
     "output_type": "display_data"
    }
   ],
   "source": [
    "embedding = np.load('/datasets/dsc180a-wi20-public/Malware/group_data/group_02/sensitive_data/processed/infomax/graph_1.npy')\n",
    "neg, pos = np.bincount(y)\n",
    "total = neg + pos\n",
    "print('Examples:\\n    Total: {}\\n    Positive: {} ({:.2f}% of total)\\n'.format(\n",
    "    total, pos, 100 * pos / total))\n",
    "weight_for_0 = (1 / neg)*(total)/2.0 \n",
    "weight_for_1 = (1 / pos)*(total)/2.0\n",
    "class_weight = {0: weight_for_0, 1: weight_for_1}\n",
    "print(class_weight)\n",
    "X_train, X_test, y_train, y_test = train_test_split(embedding, y, test_size=0.2)\n",
    "clfs = [\n",
    "        LogisticRegression(\n",
    "        solver='lbfgs',verbose=False, max_iter=2000, class_weight = class_weight, n_jobs=8\n",
    "        ),\n",
    "        RandomForestClassifier(class_weight=class_weight, n_jobs=8)\n",
    "    ]\n",
    "res = {}\n",
    "for clf in clfs:\n",
    "    res[clf.__class__.__name__] = evaluate(clf, X_train, y_train, X_test, y_test)\n",
    "res = pd.DataFrame(res).T\n",
    "display(res)"
   ]
  }
 ],
 "metadata": {
  "kernelspec": {
   "display_name": "Python 3",
   "language": "python",
   "name": "python3"
  },
  "language_info": {
   "codemirror_mode": {
    "name": "ipython",
    "version": 3
   },
   "file_extension": ".py",
   "mimetype": "text/x-python",
   "name": "python",
   "nbconvert_exporter": "python",
   "pygments_lexer": "ipython3",
   "version": "3.7.6"
  }
 },
 "nbformat": 4,
 "nbformat_minor": 4
}
