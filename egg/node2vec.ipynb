{
 "cells": [
  {
   "cell_type": "code",
   "execution_count": 1,
   "metadata": {},
   "outputs": [],
   "source": [
    "import os\n",
    "import os.path as osp\n",
    "import sys\n",
    "import torch\n",
    "import numpy as np\n",
    "import scipy.sparse as sp\n",
    "from torch.utils.data import DataLoader\n",
    "from torch_geometric.nn import Node2Vec\n",
    "from torch_geometric.utils import from_scipy_sparse_matrix\n",
    "from torch_geometric.data import Data\n",
    "from scipy import io\n",
    "from tqdm import tqdm\n",
    "import json\n",
    "import shutil"
   ]
  },
  {
   "cell_type": "code",
   "execution_count": 2,
   "metadata": {},
   "outputs": [],
   "source": [
    "PARAMS = {\n",
    "\"GRAPH_NAME\": \"graph_1.mat\",\n",
    "\"BATCH_SIZE\": 128,\n",
    "\"EMBEDDING_DIM\": 128,\n",
    "\"WALK_LENGTH\": 100,\n",
    "\"CONTEXT_SIZE\": 10,\n",
    "\"WALKS_PER_NODE\": 10,\n",
    "\"LEARNING_RATE\": 1e-2,\n",
    "\"NUM_EPOCH\": 5,\n",
    "\"CUDA\":True,\n",
    "\"P\":1,\n",
    "\"Q\":1,\n",
    "\"EMBEDDING_NAME\": \"graph_1.npy\"\n",
    "}"
   ]
  },
  {
   "cell_type": "code",
   "execution_count": 3,
   "metadata": {},
   "outputs": [],
   "source": [
    "fp = '/datasets/dsc180a-wi20-public/Malware/group_data/group_02/sensitive_data'"
   ]
  },
  {
   "cell_type": "code",
   "execution_count": 4,
   "metadata": {},
   "outputs": [],
   "source": [
    "N = io.loadmat(osp.join(fp, 'interim', 'graph', PARAMS['GRAPH_NAME']))['N']"
   ]
  },
  {
   "cell_type": "code",
   "execution_count": 10,
   "metadata": {},
   "outputs": [
    {
     "data": {
      "text/plain": [
       "{'__header__': b'MATLAB 5.0 MAT-file Platform: posix, Created on: Tue May 26 04:24:00 2020',\n",
       " '__version__': '1.0',\n",
       " '__globals__': [],\n",
       " 'N': <585320x585320 sparse matrix of type '<class 'numpy.int64'>'\n",
       " \twith 2604806 stored elements in Compressed Sparse Column format>,\n",
       " 'U': <481907x481907 sparse matrix of type '<class 'numpy.int64'>'\n",
       " \twith 805055 stored elements in Compressed Sparse Column format>,\n",
       " 'A': <481907x103413 sparse matrix of type '<class 'numpy.int64'>'\n",
       " \twith 103413 stored elements in Compressed Sparse Column format>,\n",
       " 'P': <103413x481907 sparse matrix of type '<class 'numpy.int64'>'\n",
       " \twith 1696338 stored elements in Compressed Sparse Column format>,\n",
       " 'post_label': array([[0, 0, 0, ..., 0, 0, 0]]),\n",
       " 'post_cate': array([[0., 0., 0., ..., 0., 0., 0.],\n",
       "        [0., 0., 0., ..., 0., 0., 0.],\n",
       "        [0., 0., 0., ..., 0., 0., 0.],\n",
       "        ...,\n",
       "        [0., 0., 0., ..., 0., 0., 1.],\n",
       "        [0., 0., 1., ..., 0., 0., 0.],\n",
       "        [0., 0., 0., ..., 0., 0., 0.]]),\n",
       " 'post_indx': array([[  6614,   6616,   6628, ..., 257041, 257042, 257043]]),\n",
       " 'user_indx': array([[     0,      1,      2, ..., 585317, 585318, 585319]])}"
      ]
     },
     "execution_count": 10,
     "metadata": {},
     "output_type": "execute_result"
    }
   ],
   "source": [
    "io.loadmat(osp.join(fp, 'interim', 'graph', PARAMS['GRAPH_NAME']))"
   ]
  },
  {
   "cell_type": "code",
   "execution_count": null,
   "metadata": {},
   "outputs": [],
   "source": []
  },
  {
   "cell_type": "code",
   "execution_count": null,
   "metadata": {},
   "outputs": [],
   "source": []
  },
  {
   "cell_type": "code",
   "execution_count": null,
   "metadata": {},
   "outputs": [],
   "source": []
  },
  {
   "cell_type": "code",
   "execution_count": 5,
   "metadata": {},
   "outputs": [],
   "source": [
    "edge_idx, x =from_scipy_sparse_matrix(N)\n",
    "post_indx = io.loadmat(osp.join(fp, 'interim', 'graph', PARAMS['GRAPH_NAME']))['post_indx']\n",
    "post_indx = torch.from_numpy(post_indx.reshape(-1,))\n",
    "data = Data(\n",
    "    x = x,\n",
    "    edge_index = edge_idx\n",
    ")"
   ]
  },
  {
   "cell_type": "code",
   "execution_count": 6,
   "metadata": {},
   "outputs": [],
   "source": [
    "loader = DataLoader(post_indx, batch_size=PARAMS['BATCH_SIZE'], shuffle=False)\n",
    "if PARAMS['CUDA']:\n",
    "    device = 'cuda' if torch.cuda.is_available() else 'cpu'\n",
    "else:\n",
    "    device = 'cpu'"
   ]
  },
  {
   "cell_type": "code",
   "execution_count": 9,
   "metadata": {},
   "outputs": [],
   "source": [
    "model = Node2Vec(data.edge_index, embedding_dim=PARAMS['EMBEDDING_DIM'], walk_length=PARAMS['WALK_LENGTH'],\n",
    "                    context_size=PARAMS['CONTEXT_SIZE'], walks_per_node=PARAMS['WALKS_PER_NODE'], p = PARAMS['P'], q = PARAMS['Q'], sparse=True)"
   ]
  },
  {
   "cell_type": "code",
   "execution_count": 13,
   "metadata": {},
   "outputs": [
    {
     "data": {
      "text/plain": [
       "tensor([[ 0.0108, -0.3249, -0.6775,  ..., -0.3880,  1.1678,  1.0462],\n",
       "        [-0.4706, -0.3753, -0.2350,  ...,  0.0106,  0.0690, -0.3072],\n",
       "        [-0.9684,  1.5481,  1.0705,  ..., -0.2417,  1.5498, -0.5845],\n",
       "        ...,\n",
       "        [ 0.7267, -0.0541, -1.0990,  ..., -0.1199, -0.0054,  0.2474],\n",
       "        [ 0.4417,  0.2297,  0.8620,  ...,  0.5328, -0.6913,  0.2474],\n",
       "        [-1.5310,  0.1646, -2.6391,  ..., -0.3694, -0.2230,  0.6893]],\n",
       "       grad_fn=<IndexBackward>)"
      ]
     },
     "execution_count": 13,
     "metadata": {},
     "output_type": "execute_result"
    }
   ],
   "source": [
    "model(post_indx)"
   ]
  },
  {
   "cell_type": "code",
   "execution_count": null,
   "metadata": {},
   "outputs": [],
   "source": []
  }
 ],
 "metadata": {
  "kernelspec": {
   "display_name": "Python 3",
   "language": "python",
   "name": "python3"
  },
  "language_info": {
   "codemirror_mode": {
    "name": "ipython",
    "version": 3
   },
   "file_extension": ".py",
   "mimetype": "text/x-python",
   "name": "python",
   "nbconvert_exporter": "python",
   "pygments_lexer": "ipython3",
   "version": "3.7.6"
  }
 },
 "nbformat": 4,
 "nbformat_minor": 4
}
