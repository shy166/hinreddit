{
 "cells": [
  {
   "cell_type": "code",
   "execution_count": 2,
   "metadata": {},
   "outputs": [],
   "source": [
    "import os.path as osp\n",
    "\n",
    "import torch\n",
    "import torch.nn.functional as F\n",
    "from torch_geometric.datasets import ICEWS18, GDELT  # noqa\n",
    "from torch_geometric.data import DataLoader\n",
    "from torch_geometric.nn.models.re_net import RENet\n",
    "\n",
    "seq_len = 10"
   ]
  },
  {
   "cell_type": "code",
   "execution_count": 4,
   "metadata": {},
   "outputs": [
    {
     "name": "stdout",
     "output_type": "stream",
     "text": [
      "Downloading https://github.com/INK-USC/RENet/raw/master/data/ICEWS18/train.txt\n",
      "Downloading https://github.com/INK-USC/RENet/raw/master/data/ICEWS18/valid.txt\n",
      "Downloading https://github.com/INK-USC/RENet/raw/master/data/ICEWS18/test.txt\n",
      "Processing...\n",
      "Done!\n"
     ]
    },
    {
     "name": "stderr",
     "output_type": "stream",
     "text": [
      "/opt/conda/lib/python3.7/site-packages/torch_geometric/data/dataset.py:151: UserWarning: The `pre_transform` argument differs from the one used in the pre-processed version of this dataset. If you really want to make use of another pre-processing technique, make sure to delete `./processed` first.\n",
      "  'sure to delete `{}` first.'.format(self.processed_dir))\n"
     ]
    }
   ],
   "source": [
    "path = './'\n",
    "train_dataset = ICEWS18(path, pre_transform=RENet.pre_transform(seq_len))\n",
    "test_dataset = ICEWS18(path, split='test')"
   ]
  },
  {
   "cell_type": "code",
   "execution_count": null,
   "metadata": {},
   "outputs": [],
   "source": [
    "train_loader = DataLoader(\n",
    "    train_dataset,\n",
    "    batch_size=1024,\n",
    "    shuffle=True,\n",
    "    follow_batch=['h_sub', 'h_obj'],\n",
    "    num_workers=6)\n",
    "test_loader = DataLoader(\n",
    "    test_dataset,\n",
    "    batch_size=1024,\n",
    "    shuffle=False,\n",
    "    follow_batch=['h_sub', 'h_obj'],\n",
    "    num_workers=6)"
   ]
  }
 ],
 "metadata": {
  "kernelspec": {
   "display_name": "Python 3",
   "language": "python",
   "name": "python3"
  },
  "language_info": {
   "codemirror_mode": {
    "name": "ipython",
    "version": 3
   },
   "file_extension": ".py",
   "mimetype": "text/x-python",
   "name": "python",
   "nbconvert_exporter": "python",
   "pygments_lexer": "ipython3",
   "version": "3.7.6"
  }
 },
 "nbformat": 4,
 "nbformat_minor": 4
}
