{
 "cells": [
  {
   "cell_type": "code",
   "execution_count": 19,
   "metadata": {},
   "outputs": [],
   "source": [
    "import torch\n",
    "import numpy as np\n",
    "import matplotlib.pyplot as plt\n",
    "import pandas as pd\n",
    "from scipy import io\n",
    "from sklearn.model_selection import train_test_split\n",
    "from tensorflow import keras\n",
    "from sklearn.linear_model import LogisticRegression\n",
    "from sklearn.svm import LinearSVC\n",
    "from sklearn.ensemble import RandomForestClassifier"
   ]
  },
  {
   "cell_type": "code",
   "execution_count": 9,
   "metadata": {},
   "outputs": [],
   "source": [
    "DIR = '/datasets/dsc180a-wi20-public/Malware/group_data/group_02/sensitive_data/processed/infomax'\n",
    "fp = '/datasets/dsc180a-wi20-public/Malware/group_data/group_02/sensitive_data/interim/graph/graph.mat'"
   ]
  },
  {
   "cell_type": "code",
   "execution_count": 10,
   "metadata": {},
   "outputs": [],
   "source": [
    "data = io.loadmat(fp)\n",
    "embedding = torch.load(osp.join(DIR, 'embedding.pt'))"
   ]
  },
  {
   "cell_type": "code",
   "execution_count": 11,
   "metadata": {},
   "outputs": [],
   "source": [
    "X = embedding.cpu().numpy()\n",
    "y = data['post_label'].reshape(-1,)\n",
    "post_mask = data['post_indx'].reshape(-1,)\n",
    "X= X[post_mask, :]"
   ]
  },
  {
   "cell_type": "code",
   "execution_count": 12,
   "metadata": {},
   "outputs": [],
   "source": [
    "def evaluate(clf, X_train, y_train, X_test, y_test):\n",
    "    METRICS = [\n",
    "        keras.metrics.TruePositives(name='tp'),\n",
    "        keras.metrics.FalsePositives(name='fp'),\n",
    "        keras.metrics.TrueNegatives(name='tn'),\n",
    "        keras.metrics.FalseNegatives(name='fn'), \n",
    "        keras.metrics.BinaryAccuracy(name='accuracy'),\n",
    "        keras.metrics.Precision(name='precision'),\n",
    "        keras.metrics.Recall(name='recall'),\n",
    "        keras.metrics.AUC(name='auc'),\n",
    "    ]   \n",
    "    clf.fit(X_train, y_train)\n",
    "    y_pred = clf.predict(X_test)\n",
    "    res = {}\n",
    "    for i in METRICS:\n",
    "        res[i.name] = i(y_test, y_pred).numpy()\n",
    "    return res"
   ]
  },
  {
   "cell_type": "code",
   "execution_count": 13,
   "metadata": {},
   "outputs": [],
   "source": [
    "X_train, X_test, y_train, y_test = train_test_split(X, y, test_size=0.2)"
   ]
  },
  {
   "cell_type": "code",
   "execution_count": 16,
   "metadata": {},
   "outputs": [
    {
     "name": "stdout",
     "output_type": "stream",
     "text": [
      "Examples:\n",
      "    Total: 103413\n",
      "    Positive: 4409 (4.26% of total)\n",
      "\n",
      "Weight for class 0: 0.52\n",
      "Weight for class 1: 11.73\n"
     ]
    }
   ],
   "source": [
    "neg, pos = np.bincount(y)\n",
    "total = neg + pos\n",
    "print('Examples:\\n    Total: {}\\n    Positive: {} ({:.2f}% of total)\\n'.format(\n",
    "    total, pos, 100 * pos / total))\n",
    "weight_for_0 = (1 / neg)*(total)/2.0 \n",
    "weight_for_1 = (1 / pos)*(total)/2.0\n",
    "\n",
    "class_weight = {0: weight_for_0, 1: weight_for_1}\n",
    "\n",
    "print('Weight for class 0: {:.2f}'.format(weight_for_0))\n",
    "print('Weight for class 1: {:.2f}'.format(weight_for_1))\n",
    "clfs = [\n",
    "        LogisticRegression(\n",
    "        verbose=False, max_iter=2000, class_weight = class_weight, n_jobs=8\n",
    "        ),\n",
    "        LinearSVC(class_weight=class_weight),\n",
    "        RandomForestClassifier(class_weight=class_weight, n_jobs=8)\n",
    "    ]"
   ]
  },
  {
   "cell_type": "code",
   "execution_count": 17,
   "metadata": {},
   "outputs": [
    {
     "name": "stderr",
     "output_type": "stream",
     "text": [
      "/opt/conda/lib/python3.7/site-packages/sklearn/svm/_base.py:947: ConvergenceWarning: Liblinear failed to converge, increase the number of iterations.\n",
      "  \"the number of iterations.\", ConvergenceWarning)\n"
     ]
    }
   ],
   "source": [
    "res = {}\n",
    "for clf in clfs:\n",
    "    res[clf.__class__.__name__] = evaluate(clf, X_train, y_train, X_test, y_test)"
   ]
  },
  {
   "cell_type": "code",
   "execution_count": 21,
   "metadata": {},
   "outputs": [
    {
     "data": {
      "text/html": [
       "<div>\n",
       "<style scoped>\n",
       "    .dataframe tbody tr th:only-of-type {\n",
       "        vertical-align: middle;\n",
       "    }\n",
       "\n",
       "    .dataframe tbody tr th {\n",
       "        vertical-align: top;\n",
       "    }\n",
       "\n",
       "    .dataframe thead th {\n",
       "        text-align: right;\n",
       "    }\n",
       "</style>\n",
       "<table border=\"1\" class=\"dataframe\">\n",
       "  <thead>\n",
       "    <tr style=\"text-align: right;\">\n",
       "      <th></th>\n",
       "      <th>tp</th>\n",
       "      <th>fp</th>\n",
       "      <th>tn</th>\n",
       "      <th>fn</th>\n",
       "      <th>accuracy</th>\n",
       "      <th>precision</th>\n",
       "      <th>recall</th>\n",
       "      <th>auc</th>\n",
       "    </tr>\n",
       "  </thead>\n",
       "  <tbody>\n",
       "    <tr>\n",
       "      <th>LogisticRegression</th>\n",
       "      <td>538.0</td>\n",
       "      <td>5876.0</td>\n",
       "      <td>13888.0</td>\n",
       "      <td>381.0</td>\n",
       "      <td>0.697481</td>\n",
       "      <td>0.083879</td>\n",
       "      <td>0.585419</td>\n",
       "      <td>0.644055</td>\n",
       "    </tr>\n",
       "    <tr>\n",
       "      <th>LinearSVC</th>\n",
       "      <td>560.0</td>\n",
       "      <td>5680.0</td>\n",
       "      <td>14084.0</td>\n",
       "      <td>359.0</td>\n",
       "      <td>0.708021</td>\n",
       "      <td>0.089744</td>\n",
       "      <td>0.609358</td>\n",
       "      <td>0.660983</td>\n",
       "    </tr>\n",
       "    <tr>\n",
       "      <th>RandomForestClassifier</th>\n",
       "      <td>241.0</td>\n",
       "      <td>2081.0</td>\n",
       "      <td>17683.0</td>\n",
       "      <td>678.0</td>\n",
       "      <td>0.866605</td>\n",
       "      <td>0.103790</td>\n",
       "      <td>0.262242</td>\n",
       "      <td>0.578475</td>\n",
       "    </tr>\n",
       "  </tbody>\n",
       "</table>\n",
       "</div>"
      ],
      "text/plain": [
       "                           tp      fp       tn     fn  accuracy  precision  \\\n",
       "LogisticRegression      538.0  5876.0  13888.0  381.0  0.697481   0.083879   \n",
       "LinearSVC               560.0  5680.0  14084.0  359.0  0.708021   0.089744   \n",
       "RandomForestClassifier  241.0  2081.0  17683.0  678.0  0.866605   0.103790   \n",
       "\n",
       "                          recall       auc  \n",
       "LogisticRegression      0.585419  0.644055  \n",
       "LinearSVC               0.609358  0.660983  \n",
       "RandomForestClassifier  0.262242  0.578475  "
      ]
     },
     "execution_count": 21,
     "metadata": {},
     "output_type": "execute_result"
    }
   ],
   "source": [
    "pd.DataFrame(res).T"
   ]
  }
 ],
 "metadata": {
  "kernelspec": {
   "display_name": "Python 3",
   "language": "python",
   "name": "python3"
  },
  "language_info": {
   "codemirror_mode": {
    "name": "ipython",
    "version": 3
   },
   "file_extension": ".py",
   "mimetype": "text/x-python",
   "name": "python",
   "nbconvert_exporter": "python",
   "pygments_lexer": "ipython3",
   "version": "3.7.6"
  }
 },
 "nbformat": 4,
 "nbformat_minor": 4
}
