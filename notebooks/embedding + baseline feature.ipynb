{
 "cells": [
  {
   "cell_type": "code",
   "execution_count": 95,
   "metadata": {},
   "outputs": [],
   "source": [
    "import sys\n",
    "from scipy import io\n",
    "import numpy as np\n",
    "from sklearn import metrics\n",
    "from sklearn.model_selection import train_test_split\n",
    "from sklearn.linear_model import LogisticRegression\n",
    "from torch_geometric.utils import from_scipy_sparse_matrix\n",
    "from sklearn.preprocessing import StandardScaler\n",
    "import os.path as osp\n",
    "import os\n",
    "from tsnecuda import TSNE\n",
    "import json\n",
    "import pandas as pd\n",
    "import matplotlib.pyplot as plt\n",
    "sys.path.append('../')\n",
    "from src.models import *"
   ]
  },
  {
   "cell_type": "code",
   "execution_count": 67,
   "metadata": {},
   "outputs": [],
   "source": [
    "fp = '/datasets/dsc180a-wi20-public/Malware/group_data/group_02/sensitive_data'\n",
    "g1 = io.loadmat(osp.join(fp, 'interim', 'graph', 'graph_1.mat'))\n",
    "g2 = io.loadmat(osp.join(fp, 'interim', 'graph', 'graph_2.mat'))\n",
    "post_indx = io.loadmat(osp.join(fp, 'interim', 'graph', 'graph_1.mat'))['post_indx'].reshape(-1,)\n",
    "\n",
    "y = g1['post_label'].reshape(-1,)"
   ]
  },
  {
   "cell_type": "code",
   "execution_count": 96,
   "metadata": {},
   "outputs": [],
   "source": [
    "g1_feature = np.hstack((np.array(g1['P'].sum(1)), np.array(g1['A'].T.sum(1))))\n",
    "g1_feature = StandardScaler().fit_transform(g1_feature)\n",
    "g2_feature = np.array(g2['P'].sum(1))\n",
    "g2_feature = StandardScaler().fit_transform(g2_feature)\n",
    "baseline_feature = get_baseline_feature(fp)"
   ]
  },
  {
   "cell_type": "code",
   "execution_count": 144,
   "metadata": {},
   "outputs": [],
   "source": [
    "g1_node2vec = np.load(osp.join(fp, 'processed', 'node2vec', 'graph_1.npy'))\n",
    "g1_infomax = np.load(osp.join(fp, 'processed', 'infomax', 'graph_1.npy'))\n",
    "g1_metapath2vec =  np.load(osp.join(fp, 'processed', 'metapath2vec', 'graph_1.npy'))\n",
    "\n",
    "g2_node2vec = np.load(osp.join(fp, 'processed', 'node2vec', 'graph_2.npy'))\n",
    "g2_infomax = np.load(osp.join(fp, 'processed', 'infomax', 'graph_2.npy'))\n",
    "g2_metapath2vec =  np.load(osp.join(fp, 'processed', 'metapath2vec', 'graph_2.npy'))"
   ]
  },
  {
   "cell_type": "code",
   "execution_count": 109,
   "metadata": {},
   "outputs": [],
   "source": [
    "def evaluate_emb(X_train, X_test, y_train, y_test, clf):\n",
    "    clf.fit(X_train, y_train)\n",
    "    y_pred = clf.predict(X_test)\n",
    "    y_true = y_test.copy()\n",
    "    tn, fp, fn, tp = metrics.confusion_matrix(y_true, y_pred).ravel()\n",
    "    acc = metrics.accuracy_score(y_true, y_pred)\n",
    "    fpr, tpr, thresholds = metrics.roc_curve(y_true, y_pred, pos_label = 1)\n",
    "    auc = metrics.auc(fpr, tpr)\n",
    "    precision = metrics.precision_score(y_true, y_pred)\n",
    "    recall = metrics.recall_score(y_true, y_pred)\n",
    "    return tn, fp, fn, tp, acc, auc, precision, recall"
   ]
  },
  {
   "cell_type": "code",
   "execution_count": 134,
   "metadata": {},
   "outputs": [],
   "source": [
    "def evaluate_with_baseline(train_mask, test_mask, feature_1, feature_2, feature_3, y, clfs):\n",
    "    if isinstance(feature_3, type(None)):\n",
    "        X = np.hstack((feature_1, feature_2))\n",
    "    else:\n",
    "        X = np.hstack((feature_1, feature_2, feature_3))\n",
    "    X_train, X_test, y_train, y_test = X[train_mask, :], X[test_mask, :], y[train_mask], y[test_mask]\n",
    "    res = {}\n",
    "    for clf in clfs:\n",
    "        res[clf.__class__.__name__] = list(evaluate_emb(X_train, X_test, y_train, y_test, clf))\n",
    "    res = pd.DataFrame(res).T\n",
    "    res.columns = ['tn', 'fp', 'fn', 'tp', 'acc', 'auc', 'precision', 'recall']\n",
    "    return res"
   ]
  },
  {
   "cell_type": "code",
   "execution_count": 135,
   "metadata": {},
   "outputs": [],
   "source": [
    "train_mask, test_mask = train_test_split(np.arange(len(y_hateful)), test_size=0.2)"
   ]
  },
  {
   "cell_type": "code",
   "execution_count": 136,
   "metadata": {},
   "outputs": [],
   "source": [
    "clfs = [LogisticRegression(\n",
    "        verbose=False, max_iter=2000, class_weight = 'balanced', n_jobs=8, solver = 'lbfgs'),\n",
    "        RandomForestClassifier(class_weight = 'balanced', n_jobs=8)]"
   ]
  },
  {
   "cell_type": "markdown",
   "metadata": {},
   "source": [
    "g1 node2vec"
   ]
  },
  {
   "cell_type": "code",
   "execution_count": 139,
   "metadata": {},
   "outputs": [
    {
     "data": {
      "text/html": [
       "<div>\n",
       "<style scoped>\n",
       "    .dataframe tbody tr th:only-of-type {\n",
       "        vertical-align: middle;\n",
       "    }\n",
       "\n",
       "    .dataframe tbody tr th {\n",
       "        vertical-align: top;\n",
       "    }\n",
       "\n",
       "    .dataframe thead th {\n",
       "        text-align: right;\n",
       "    }\n",
       "</style>\n",
       "<table border=\"1\" class=\"dataframe\">\n",
       "  <thead>\n",
       "    <tr style=\"text-align: right;\">\n",
       "      <th></th>\n",
       "      <th>tn</th>\n",
       "      <th>fp</th>\n",
       "      <th>fn</th>\n",
       "      <th>tp</th>\n",
       "      <th>acc</th>\n",
       "      <th>auc</th>\n",
       "      <th>precision</th>\n",
       "      <th>recall</th>\n",
       "    </tr>\n",
       "  </thead>\n",
       "  <tbody>\n",
       "    <tr>\n",
       "      <th>LogisticRegression</th>\n",
       "      <td>15561.0</td>\n",
       "      <td>4229.0</td>\n",
       "      <td>268.0</td>\n",
       "      <td>625.0</td>\n",
       "      <td>0.782575</td>\n",
       "      <td>0.743097</td>\n",
       "      <td>0.128760</td>\n",
       "      <td>0.699888</td>\n",
       "    </tr>\n",
       "    <tr>\n",
       "      <th>RandomForestClassifier</th>\n",
       "      <td>19767.0</td>\n",
       "      <td>23.0</td>\n",
       "      <td>849.0</td>\n",
       "      <td>44.0</td>\n",
       "      <td>0.957840</td>\n",
       "      <td>0.524055</td>\n",
       "      <td>0.656716</td>\n",
       "      <td>0.049272</td>\n",
       "    </tr>\n",
       "  </tbody>\n",
       "</table>\n",
       "</div>"
      ],
      "text/plain": [
       "                             tn      fp     fn     tp       acc       auc  \\\n",
       "LogisticRegression      15561.0  4229.0  268.0  625.0  0.782575  0.743097   \n",
       "RandomForestClassifier  19767.0    23.0  849.0   44.0  0.957840  0.524055   \n",
       "\n",
       "                        precision    recall  \n",
       "LogisticRegression       0.128760  0.699888  \n",
       "RandomForestClassifier   0.656716  0.049272  "
      ]
     },
     "metadata": {},
     "output_type": "display_data"
    }
   ],
   "source": [
    "res = evaluate_with_baseline(train_mask, test_mask, g1_feature, g1_node2vec, baseline_feature, y, clfs)\n",
    "display(res)"
   ]
  },
  {
   "cell_type": "markdown",
   "metadata": {},
   "source": [
    "g1 infomax"
   ]
  },
  {
   "cell_type": "code",
   "execution_count": 141,
   "metadata": {},
   "outputs": [
    {
     "data": {
      "text/html": [
       "<div>\n",
       "<style scoped>\n",
       "    .dataframe tbody tr th:only-of-type {\n",
       "        vertical-align: middle;\n",
       "    }\n",
       "\n",
       "    .dataframe tbody tr th {\n",
       "        vertical-align: top;\n",
       "    }\n",
       "\n",
       "    .dataframe thead th {\n",
       "        text-align: right;\n",
       "    }\n",
       "</style>\n",
       "<table border=\"1\" class=\"dataframe\">\n",
       "  <thead>\n",
       "    <tr style=\"text-align: right;\">\n",
       "      <th></th>\n",
       "      <th>tn</th>\n",
       "      <th>fp</th>\n",
       "      <th>fn</th>\n",
       "      <th>tp</th>\n",
       "      <th>acc</th>\n",
       "      <th>auc</th>\n",
       "      <th>precision</th>\n",
       "      <th>recall</th>\n",
       "    </tr>\n",
       "  </thead>\n",
       "  <tbody>\n",
       "    <tr>\n",
       "      <th>LogisticRegression</th>\n",
       "      <td>15731.0</td>\n",
       "      <td>4059.0</td>\n",
       "      <td>269.0</td>\n",
       "      <td>624.0</td>\n",
       "      <td>0.790746</td>\n",
       "      <td>0.746832</td>\n",
       "      <td>0.133248</td>\n",
       "      <td>0.698768</td>\n",
       "    </tr>\n",
       "    <tr>\n",
       "      <th>RandomForestClassifier</th>\n",
       "      <td>19477.0</td>\n",
       "      <td>313.0</td>\n",
       "      <td>761.0</td>\n",
       "      <td>132.0</td>\n",
       "      <td>0.948073</td>\n",
       "      <td>0.566000</td>\n",
       "      <td>0.296629</td>\n",
       "      <td>0.147816</td>\n",
       "    </tr>\n",
       "  </tbody>\n",
       "</table>\n",
       "</div>"
      ],
      "text/plain": [
       "                             tn      fp     fn     tp       acc       auc  \\\n",
       "LogisticRegression      15731.0  4059.0  269.0  624.0  0.790746  0.746832   \n",
       "RandomForestClassifier  19477.0   313.0  761.0  132.0  0.948073  0.566000   \n",
       "\n",
       "                        precision    recall  \n",
       "LogisticRegression       0.133248  0.698768  \n",
       "RandomForestClassifier   0.296629  0.147816  "
      ]
     },
     "metadata": {},
     "output_type": "display_data"
    }
   ],
   "source": [
    "res = evaluate_with_baseline(train_mask, test_mask, g1_feature, g1_infomax, None, y, clfs)\n",
    "display(res)"
   ]
  },
  {
   "cell_type": "markdown",
   "metadata": {},
   "source": [
    "g1 metapath2vec"
   ]
  },
  {
   "cell_type": "code",
   "execution_count": 143,
   "metadata": {},
   "outputs": [
    {
     "data": {
      "text/html": [
       "<div>\n",
       "<style scoped>\n",
       "    .dataframe tbody tr th:only-of-type {\n",
       "        vertical-align: middle;\n",
       "    }\n",
       "\n",
       "    .dataframe tbody tr th {\n",
       "        vertical-align: top;\n",
       "    }\n",
       "\n",
       "    .dataframe thead th {\n",
       "        text-align: right;\n",
       "    }\n",
       "</style>\n",
       "<table border=\"1\" class=\"dataframe\">\n",
       "  <thead>\n",
       "    <tr style=\"text-align: right;\">\n",
       "      <th></th>\n",
       "      <th>tn</th>\n",
       "      <th>fp</th>\n",
       "      <th>fn</th>\n",
       "      <th>tp</th>\n",
       "      <th>acc</th>\n",
       "      <th>auc</th>\n",
       "      <th>precision</th>\n",
       "      <th>recall</th>\n",
       "    </tr>\n",
       "  </thead>\n",
       "  <tbody>\n",
       "    <tr>\n",
       "      <th>LogisticRegression</th>\n",
       "      <td>15575.0</td>\n",
       "      <td>4215.0</td>\n",
       "      <td>275.0</td>\n",
       "      <td>618.0</td>\n",
       "      <td>0.782914</td>\n",
       "      <td>0.739531</td>\n",
       "      <td>0.127871</td>\n",
       "      <td>0.692049</td>\n",
       "    </tr>\n",
       "    <tr>\n",
       "      <th>RandomForestClassifier</th>\n",
       "      <td>19763.0</td>\n",
       "      <td>27.0</td>\n",
       "      <td>856.0</td>\n",
       "      <td>37.0</td>\n",
       "      <td>0.957308</td>\n",
       "      <td>0.520035</td>\n",
       "      <td>0.578125</td>\n",
       "      <td>0.041433</td>\n",
       "    </tr>\n",
       "  </tbody>\n",
       "</table>\n",
       "</div>"
      ],
      "text/plain": [
       "                             tn      fp     fn     tp       acc       auc  \\\n",
       "LogisticRegression      15575.0  4215.0  275.0  618.0  0.782914  0.739531   \n",
       "RandomForestClassifier  19763.0    27.0  856.0   37.0  0.957308  0.520035   \n",
       "\n",
       "                        precision    recall  \n",
       "LogisticRegression       0.127871  0.692049  \n",
       "RandomForestClassifier   0.578125  0.041433  "
      ]
     },
     "metadata": {},
     "output_type": "display_data"
    }
   ],
   "source": [
    "res = evaluate_with_baseline(train_mask, test_mask, g1_feature, g1_metapath2vec, baseline_feature, y, clfs)\n",
    "display(res)"
   ]
  },
  {
   "cell_type": "markdown",
   "metadata": {},
   "source": [
    "g2 node2vec"
   ]
  },
  {
   "cell_type": "code",
   "execution_count": 160,
   "metadata": {},
   "outputs": [
    {
     "data": {
      "text/html": [
       "<div>\n",
       "<style scoped>\n",
       "    .dataframe tbody tr th:only-of-type {\n",
       "        vertical-align: middle;\n",
       "    }\n",
       "\n",
       "    .dataframe tbody tr th {\n",
       "        vertical-align: top;\n",
       "    }\n",
       "\n",
       "    .dataframe thead th {\n",
       "        text-align: right;\n",
       "    }\n",
       "</style>\n",
       "<table border=\"1\" class=\"dataframe\">\n",
       "  <thead>\n",
       "    <tr style=\"text-align: right;\">\n",
       "      <th></th>\n",
       "      <th>tn</th>\n",
       "      <th>fp</th>\n",
       "      <th>fn</th>\n",
       "      <th>tp</th>\n",
       "      <th>acc</th>\n",
       "      <th>auc</th>\n",
       "      <th>precision</th>\n",
       "      <th>recall</th>\n",
       "    </tr>\n",
       "  </thead>\n",
       "  <tbody>\n",
       "    <tr>\n",
       "      <th>LogisticRegression</th>\n",
       "      <td>15494.0</td>\n",
       "      <td>4296.0</td>\n",
       "      <td>263.0</td>\n",
       "      <td>630.0</td>\n",
       "      <td>0.779577</td>\n",
       "      <td>0.744204</td>\n",
       "      <td>0.127893</td>\n",
       "      <td>0.705487</td>\n",
       "    </tr>\n",
       "    <tr>\n",
       "      <th>RandomForestClassifier</th>\n",
       "      <td>19773.0</td>\n",
       "      <td>17.0</td>\n",
       "      <td>848.0</td>\n",
       "      <td>45.0</td>\n",
       "      <td>0.958178</td>\n",
       "      <td>0.524766</td>\n",
       "      <td>0.725806</td>\n",
       "      <td>0.050392</td>\n",
       "    </tr>\n",
       "  </tbody>\n",
       "</table>\n",
       "</div>"
      ],
      "text/plain": [
       "                             tn      fp     fn     tp       acc       auc  \\\n",
       "LogisticRegression      15494.0  4296.0  263.0  630.0  0.779577  0.744204   \n",
       "RandomForestClassifier  19773.0    17.0  848.0   45.0  0.958178  0.524766   \n",
       "\n",
       "                        precision    recall  \n",
       "LogisticRegression       0.127893  0.705487  \n",
       "RandomForestClassifier   0.725806  0.050392  "
      ]
     },
     "metadata": {},
     "output_type": "display_data"
    }
   ],
   "source": [
    "res = evaluate_with_baseline(train_mask, test_mask, g2_feature, g2_node2vec, baseline_feature, y, clfs)\n",
    "display(res)"
   ]
  },
  {
   "cell_type": "markdown",
   "metadata": {},
   "source": [
    "g2 infomax"
   ]
  },
  {
   "cell_type": "code",
   "execution_count": 161,
   "metadata": {},
   "outputs": [
    {
     "data": {
      "text/html": [
       "<div>\n",
       "<style scoped>\n",
       "    .dataframe tbody tr th:only-of-type {\n",
       "        vertical-align: middle;\n",
       "    }\n",
       "\n",
       "    .dataframe tbody tr th {\n",
       "        vertical-align: top;\n",
       "    }\n",
       "\n",
       "    .dataframe thead th {\n",
       "        text-align: right;\n",
       "    }\n",
       "</style>\n",
       "<table border=\"1\" class=\"dataframe\">\n",
       "  <thead>\n",
       "    <tr style=\"text-align: right;\">\n",
       "      <th></th>\n",
       "      <th>tn</th>\n",
       "      <th>fp</th>\n",
       "      <th>fn</th>\n",
       "      <th>tp</th>\n",
       "      <th>acc</th>\n",
       "      <th>auc</th>\n",
       "      <th>precision</th>\n",
       "      <th>recall</th>\n",
       "    </tr>\n",
       "  </thead>\n",
       "  <tbody>\n",
       "    <tr>\n",
       "      <th>LogisticRegression</th>\n",
       "      <td>15191.0</td>\n",
       "      <td>4599.0</td>\n",
       "      <td>230.0</td>\n",
       "      <td>663.0</td>\n",
       "      <td>0.766523</td>\n",
       "      <td>0.755026</td>\n",
       "      <td>0.125998</td>\n",
       "      <td>0.742441</td>\n",
       "    </tr>\n",
       "    <tr>\n",
       "      <th>RandomForestClassifier</th>\n",
       "      <td>19175.0</td>\n",
       "      <td>615.0</td>\n",
       "      <td>727.0</td>\n",
       "      <td>166.0</td>\n",
       "      <td>0.935116</td>\n",
       "      <td>0.577407</td>\n",
       "      <td>0.212548</td>\n",
       "      <td>0.185890</td>\n",
       "    </tr>\n",
       "  </tbody>\n",
       "</table>\n",
       "</div>"
      ],
      "text/plain": [
       "                             tn      fp     fn     tp       acc       auc  \\\n",
       "LogisticRegression      15191.0  4599.0  230.0  663.0  0.766523  0.755026   \n",
       "RandomForestClassifier  19175.0   615.0  727.0  166.0  0.935116  0.577407   \n",
       "\n",
       "                        precision    recall  \n",
       "LogisticRegression       0.125998  0.742441  \n",
       "RandomForestClassifier   0.212548  0.185890  "
      ]
     },
     "metadata": {},
     "output_type": "display_data"
    }
   ],
   "source": [
    "res = evaluate_with_baseline(train_mask, test_mask, g2_feature, g2_infomax, None, y, clfs)\n",
    "display(res)"
   ]
  },
  {
   "cell_type": "markdown",
   "metadata": {},
   "source": [
    "g2 metapath2vec"
   ]
  },
  {
   "cell_type": "code",
   "execution_count": 162,
   "metadata": {},
   "outputs": [
    {
     "data": {
      "text/html": [
       "<div>\n",
       "<style scoped>\n",
       "    .dataframe tbody tr th:only-of-type {\n",
       "        vertical-align: middle;\n",
       "    }\n",
       "\n",
       "    .dataframe tbody tr th {\n",
       "        vertical-align: top;\n",
       "    }\n",
       "\n",
       "    .dataframe thead th {\n",
       "        text-align: right;\n",
       "    }\n",
       "</style>\n",
       "<table border=\"1\" class=\"dataframe\">\n",
       "  <thead>\n",
       "    <tr style=\"text-align: right;\">\n",
       "      <th></th>\n",
       "      <th>tn</th>\n",
       "      <th>fp</th>\n",
       "      <th>fn</th>\n",
       "      <th>tp</th>\n",
       "      <th>acc</th>\n",
       "      <th>auc</th>\n",
       "      <th>precision</th>\n",
       "      <th>recall</th>\n",
       "    </tr>\n",
       "  </thead>\n",
       "  <tbody>\n",
       "    <tr>\n",
       "      <th>LogisticRegression</th>\n",
       "      <td>15489.0</td>\n",
       "      <td>4301.0</td>\n",
       "      <td>267.0</td>\n",
       "      <td>626.0</td>\n",
       "      <td>0.779142</td>\n",
       "      <td>0.741838</td>\n",
       "      <td>0.127055</td>\n",
       "      <td>0.701008</td>\n",
       "    </tr>\n",
       "    <tr>\n",
       "      <th>RandomForestClassifier</th>\n",
       "      <td>19760.0</td>\n",
       "      <td>30.0</td>\n",
       "      <td>841.0</td>\n",
       "      <td>52.0</td>\n",
       "      <td>0.957888</td>\n",
       "      <td>0.528357</td>\n",
       "      <td>0.634146</td>\n",
       "      <td>0.058231</td>\n",
       "    </tr>\n",
       "  </tbody>\n",
       "</table>\n",
       "</div>"
      ],
      "text/plain": [
       "                             tn      fp     fn     tp       acc       auc  \\\n",
       "LogisticRegression      15489.0  4301.0  267.0  626.0  0.779142  0.741838   \n",
       "RandomForestClassifier  19760.0    30.0  841.0   52.0  0.957888  0.528357   \n",
       "\n",
       "                        precision    recall  \n",
       "LogisticRegression       0.127055  0.701008  \n",
       "RandomForestClassifier   0.634146  0.058231  "
      ]
     },
     "metadata": {},
     "output_type": "display_data"
    }
   ],
   "source": [
    "res = evaluate_with_baseline(train_mask, test_mask, g2_feature, g2_metapath2vec, baseline_feature, y, clfs)\n",
    "display(res)"
   ]
  }
 ],
 "metadata": {
  "kernelspec": {
   "display_name": "Python 3",
   "language": "python",
   "name": "python3"
  },
  "language_info": {
   "codemirror_mode": {
    "name": "ipython",
    "version": 3
   },
   "file_extension": ".py",
   "mimetype": "text/x-python",
   "name": "python",
   "nbconvert_exporter": "python",
   "pygments_lexer": "ipython3",
   "version": "3.7.6"
  }
 },
 "nbformat": 4,
 "nbformat_minor": 4
}
