{
 "cells": [
  {
   "cell_type": "code",
   "execution_count": 2,
   "metadata": {},
   "outputs": [],
   "source": [
    "import pandas as pd\n",
    "import numpy as np\n",
    "import matplotlib.pyplot as plt\n",
    "from glob import glob"
   ]
  },
  {
   "cell_type": "code",
   "execution_count": 22,
   "metadata": {},
   "outputs": [
    {
     "name": "stderr",
     "output_type": "stream",
     "text": [
      "/opt/conda/lib/python3.7/site-packages/IPython/core/interactiveshell.py:3254: DtypeWarning: Columns (2,3,8) have mixed types.Specify dtype option on import or set low_memory=False.\n",
      "  if (await self.run_code(code, result,  async_=asy)):\n"
     ]
    }
   ],
   "source": [
    "#get post label\n",
    "labels = pd.read_csv('/datasets/dsc180a-wi20-public/Malware/group_data/group_02/sensitive_data/interim/label/label.csv')\n",
    "#get post information\n",
    "posts = glob('/datasets/dsc180a-wi20-public/Malware/group_data/group_02/sensitive_data/raw/posts/*.csv')\n",
    "posts = pd.concat([pd.read_csv(i) for i in posts], ignore_index = True)\n",
    "#get information of comment\n",
    "comments = glob('/datasets/dsc180a-wi20-public/Malware/group_data/group_02/sensitive_data/raw/comments/*.csv')\n",
    "comments = pd.concat([pd.read_csv(i) for i in comments], ignore_index = True)\n",
    "posts = pd.merge(posts, labels, left_on = 'id', right_on = 'post_id', how = 'inner').drop('post_id', axis = 1)"
   ]
  },
  {
   "cell_type": "code",
   "execution_count": 25,
   "metadata": {},
   "outputs": [],
   "source": [
    "posts.to_csv('posts.csv', index=False)"
   ]
  },
  {
   "cell_type": "code",
   "execution_count": 26,
   "metadata": {},
   "outputs": [],
   "source": [
    "comments.to_csv('comments.csv', index=False)"
   ]
  },
  {
   "cell_type": "code",
   "execution_count": null,
   "metadata": {},
   "outputs": [],
   "source": []
  }
 ],
 "metadata": {
  "kernelspec": {
   "display_name": "Python 3",
   "language": "python",
   "name": "python3"
  },
  "language_info": {
   "codemirror_mode": {
    "name": "ipython",
    "version": 3
   },
   "file_extension": ".py",
   "mimetype": "text/x-python",
   "name": "python",
   "nbconvert_exporter": "python",
   "pygments_lexer": "ipython3",
   "version": "3.7.6"
  }
 },
 "nbformat": 4,
 "nbformat_minor": 4
}
